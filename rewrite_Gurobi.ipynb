{
 "cells": [
  {
   "cell_type": "markdown",
   "metadata": {},
   "source": [
    "### Optimal Tactical Pathing for UGV"
   ]
  },
  {
   "cell_type": "code",
   "execution_count": 24,
   "metadata": {},
   "outputs": [],
   "source": [
    "import gurobipy as gp\n",
    "from gurobipy import Model, GRB\n",
    "import numpy as np\n",
    "import scipy.sparse as sp\n",
    "import pandas as pd\n",
    "import os\n",
    "import csv\n",
    "from PIL import Image"
   ]
  },
  {
   "cell_type": "code",
   "execution_count": 26,
   "metadata": {},
   "outputs": [],
   "source": [
    "SITUATION = \"Buckner\"\n",
    "SPACING = 40"
   ]
  },
  {
   "cell_type": "code",
   "execution_count": 27,
   "metadata": {},
   "outputs": [
    {
     "data": {
      "text/plain": [
       "3"
      ]
     },
     "execution_count": 27,
     "metadata": {},
     "output_type": "execute_result"
    }
   ],
   "source": [
    "sat_path = os.path.join(os.getcwd(), 'imagery', SITUATION+'.png')\n",
    "sat_map = np.asarray(Image.open(sat_path))\n",
    "l, w, h = sat_map.shape\n",
    "rows = l // SPACING\n",
    "cols = w // SPACING\n",
    "cols\n"
   ]
  },
  {
   "cell_type": "code",
   "execution_count": 28,
   "metadata": {},
   "outputs": [
    {
     "data": {
      "text/html": [
       "<div>\n",
       "<style scoped>\n",
       "    .dataframe tbody tr th:only-of-type {\n",
       "        vertical-align: middle;\n",
       "    }\n",
       "\n",
       "    .dataframe tbody tr th {\n",
       "        vertical-align: top;\n",
       "    }\n",
       "\n",
       "    .dataframe thead th {\n",
       "        text-align: right;\n",
       "    }\n",
       "</style>\n",
       "<table border=\"1\" class=\"dataframe\">\n",
       "  <thead>\n",
       "    <tr style=\"text-align: right;\">\n",
       "      <th></th>\n",
       "      <th>0</th>\n",
       "      <th>1</th>\n",
       "      <th>2</th>\n",
       "      <th>3</th>\n",
       "      <th>4</th>\n",
       "      <th>5</th>\n",
       "      <th>6</th>\n",
       "    </tr>\n",
       "  </thead>\n",
       "  <tbody>\n",
       "    <tr>\n",
       "      <th>0</th>\n",
       "      <td>1</td>\n",
       "      <td>1</td>\n",
       "      <td>2</td>\n",
       "      <td>0.005661</td>\n",
       "      <td>179.104478</td>\n",
       "      <td>-0.443756</td>\n",
       "      <td>0</td>\n",
       "    </tr>\n",
       "    <tr>\n",
       "      <th>1</th>\n",
       "      <td>2</td>\n",
       "      <td>1</td>\n",
       "      <td>5</td>\n",
       "      <td>1.000000</td>\n",
       "      <td>179.104478</td>\n",
       "      <td>232.573500</td>\n",
       "      <td>0</td>\n",
       "    </tr>\n",
       "    <tr>\n",
       "      <th>2</th>\n",
       "      <td>3</td>\n",
       "      <td>1</td>\n",
       "      <td>4</td>\n",
       "      <td>0.005316</td>\n",
       "      <td>179.104478</td>\n",
       "      <td>352.700609</td>\n",
       "      <td>0</td>\n",
       "    </tr>\n",
       "    <tr>\n",
       "      <th>3</th>\n",
       "      <td>4</td>\n",
       "      <td>1</td>\n",
       "      <td>10</td>\n",
       "      <td>0.050055</td>\n",
       "      <td>179.104478</td>\n",
       "      <td>0.000000</td>\n",
       "      <td>1</td>\n",
       "    </tr>\n",
       "    <tr>\n",
       "      <th>4</th>\n",
       "      <td>5</td>\n",
       "      <td>2</td>\n",
       "      <td>3</td>\n",
       "      <td>0.005152</td>\n",
       "      <td>179.104478</td>\n",
       "      <td>260.180215</td>\n",
       "      <td>0</td>\n",
       "    </tr>\n",
       "    <tr>\n",
       "      <th>...</th>\n",
       "      <td>...</td>\n",
       "      <td>...</td>\n",
       "      <td>...</td>\n",
       "      <td>...</td>\n",
       "      <td>...</td>\n",
       "      <td>...</td>\n",
       "      <td>...</td>\n",
       "    </tr>\n",
       "    <tr>\n",
       "      <th>93</th>\n",
       "      <td>94</td>\n",
       "      <td>17</td>\n",
       "      <td>8</td>\n",
       "      <td>0.005866</td>\n",
       "      <td>179.104478</td>\n",
       "      <td>0.000000</td>\n",
       "      <td>0</td>\n",
       "    </tr>\n",
       "    <tr>\n",
       "      <th>94</th>\n",
       "      <td>95</td>\n",
       "      <td>18</td>\n",
       "      <td>17</td>\n",
       "      <td>0.047182</td>\n",
       "      <td>179.104478</td>\n",
       "      <td>-111.114877</td>\n",
       "      <td>1</td>\n",
       "    </tr>\n",
       "    <tr>\n",
       "      <th>95</th>\n",
       "      <td>96</td>\n",
       "      <td>18</td>\n",
       "      <td>14</td>\n",
       "      <td>1.000000</td>\n",
       "      <td>179.104478</td>\n",
       "      <td>-57.404831</td>\n",
       "      <td>1</td>\n",
       "    </tr>\n",
       "    <tr>\n",
       "      <th>96</th>\n",
       "      <td>97</td>\n",
       "      <td>18</td>\n",
       "      <td>15</td>\n",
       "      <td>0.051187</td>\n",
       "      <td>179.104478</td>\n",
       "      <td>-115.663070</td>\n",
       "      <td>1</td>\n",
       "    </tr>\n",
       "    <tr>\n",
       "      <th>97</th>\n",
       "      <td>98</td>\n",
       "      <td>18</td>\n",
       "      <td>9</td>\n",
       "      <td>0.004679</td>\n",
       "      <td>179.104478</td>\n",
       "      <td>0.000000</td>\n",
       "      <td>0</td>\n",
       "    </tr>\n",
       "  </tbody>\n",
       "</table>\n",
       "<p>98 rows × 7 columns</p>\n",
       "</div>"
      ],
      "text/plain": [
       "     0   1   2         3           4           5  6\n",
       "0    1   1   2  0.005661  179.104478   -0.443756  0\n",
       "1    2   1   5  1.000000  179.104478  232.573500  0\n",
       "2    3   1   4  0.005316  179.104478  352.700609  0\n",
       "3    4   1  10  0.050055  179.104478    0.000000  1\n",
       "4    5   2   3  0.005152  179.104478  260.180215  0\n",
       "..  ..  ..  ..       ...         ...         ... ..\n",
       "93  94  17   8  0.005866  179.104478    0.000000  0\n",
       "94  95  18  17  0.047182  179.104478 -111.114877  1\n",
       "95  96  18  14  1.000000  179.104478  -57.404831  1\n",
       "96  97  18  15  0.051187  179.104478 -115.663070  1\n",
       "97  98  18   9  0.004679  179.104478    0.000000  0\n",
       "\n",
       "[98 rows x 7 columns]"
      ]
     },
     "execution_count": 28,
     "metadata": {},
     "output_type": "execute_result"
    }
   ],
   "source": [
    "arcs = pd.read_csv('Buckner_arcs_3_3.csv',header=None)\n",
    "arcs\n",
    "ins_csv = pd.read_csv('Buckner_ins_3_3.csv', header=None)\n",
    "outs_csv = pd.read_csv('Buckner_outs_3_3.csv', header=None)\n",
    "\n",
    "arcs\n"
   ]
  },
  {
   "cell_type": "code",
   "execution_count": 29,
   "metadata": {},
   "outputs": [],
   "source": [
    "inflow = ins_csv.apply(lambda row: row[row != 0].tolist(), axis=1).to_dict()\n",
    "inflow = {\n",
    "    idx + 1: row[row != 0].tolist()\n",
    "    for idx, row in ins_csv.iterrows()\n",
    "}\n",
    "\n",
    "\n",
    "outflow = outs_csv.apply(lambda row: row[row != 0].tolist(), axis=1).to_dict()\n",
    "outflow = {\n",
    "    idx + 1: row[row != 0].tolist()\n",
    "    for idx, row in outs_csv.iterrows()\n",
    "}"
   ]
  },
  {
   "cell_type": "code",
   "execution_count": 30,
   "metadata": {},
   "outputs": [
    {
     "data": {
      "text/plain": [
       "{1: [9, 18, 26, 53],\n",
       " 2: [1, 13, 19, 27, 33, 59],\n",
       " 3: [5, 28, 34, 63],\n",
       " 4: [3, 8, 25, 37, 42, 69],\n",
       " 5: [2, 7, 12, 15, 32, 38, 43, 47, 78],\n",
       " 6: [6, 11, 21, 44, 48, 84],\n",
       " 7: [17, 24, 41, 88],\n",
       " 8: [16, 23, 31, 36, 46, 94],\n",
       " 9: [22, 30, 40, 98],\n",
       " 10: [4, 58, 67, 75],\n",
       " 11: [10, 50, 62, 68, 76, 82],\n",
       " 12: [14, 54, 77, 83],\n",
       " 13: [20, 52, 57, 74, 86, 91],\n",
       " 14: [29, 51, 56, 61, 64, 81, 87, 92, 96],\n",
       " 15: [35, 55, 60, 70, 93, 97],\n",
       " 16: [39, 66, 73, 90],\n",
       " 17: [45, 65, 72, 80, 85, 95],\n",
       " 18: [49, 71, 79, 89]}"
      ]
     },
     "execution_count": 30,
     "metadata": {},
     "output_type": "execute_result"
    }
   ],
   "source": [
    "inflow"
   ]
  },
  {
   "cell_type": "code",
   "execution_count": 31,
   "metadata": {},
   "outputs": [
    {
     "data": {
      "text/plain": [
       "98"
      ]
     },
     "execution_count": 31,
     "metadata": {},
     "output_type": "execute_result"
    }
   ],
   "source": [
    "t = 60*60*60\n",
    "s = 1\n",
    "f = 9\n",
    "N=cols*rows*2\n",
    "A=max(arcs[0])\n",
    "d = arcs[3]\n",
    "E = arcs[5]\n",
    "t = 60*60*60\n",
    "\n",
    "batteryCapacity = 100000\n",
    "A"
   ]
  },
  {
   "cell_type": "code",
   "execution_count": 77,
   "metadata": {},
   "outputs": [
    {
     "name": "stdout",
     "output_type": "stream",
     "text": [
      "Inflow: {1: [9, 18, 26, 53], 2: [1, 13, 19, 27, 33, 59], 3: [5, 28, 34, 63], 4: [3, 8, 25, 37, 42, 69], 5: [2, 7, 12, 15, 32, 38, 43, 47, 78], 6: [6, 11, 21, 44, 48, 84], 7: [17, 24, 41, 88], 8: [16, 23, 31, 36, 46, 94], 9: [22, 30, 40, 98], 10: [4, 58, 67, 75], 11: [10, 50, 62, 68, 76, 82], 12: [14, 54, 77, 83], 13: [20, 52, 57, 74, 86, 91], 14: [29, 51, 56, 61, 64, 81, 87, 92, 96], 15: [35, 55, 60, 70, 93, 97], 16: [39, 66, 73, 90], 17: [45, 65, 72, 80, 85, 95], 18: [49, 71, 79, 89]}\n",
      "Outflow: {1: [1, 2, 3, 4], 2: [5, 6, 7, 8, 9, 10], 3: [11, 12, 13, 14], 4: [15, 16, 17, 18, 19, 20], 5: [21, 22, 23, 24, 25, 26, 27, 28, 29], 6: [30, 31, 32, 33, 34, 35], 7: [36, 37, 38, 39], 8: [40, 41, 42, 43, 44, 45], 9: [46, 47, 48, 49], 10: [50, 51, 52, 53], 11: [54, 55, 56, 57, 58, 59], 12: [60, 61, 62, 63], 13: [64, 65, 66, 67, 68, 69], 14: [70, 71, 72, 73, 74, 75, 76, 77, 78], 15: [79, 80, 81, 82, 83, 84], 16: [85, 86, 87, 88], 17: [89, 90, 91, 92, 93, 94], 18: [95, 96, 97, 98]}\n"
     ]
    }
   ],
   "source": [
    "print(\"Inflow:\", inflow)\n",
    "print(\"Outflow:\", outflow)"
   ]
  },
  {
   "cell_type": "code",
   "execution_count": 49,
   "metadata": {},
   "outputs": [],
   "source": [
    "from gurobipy import Model, GRB\n",
    "\n",
    "def two_step_optimization(w, h, s, f, A, N, d, t, E, inflow, outflow, batteryCapacity):\n",
    "    MAXTIME = 120  # Time limit for optimization\n",
    "    MIPGAP = 1e-2  # Allowable MIP gap\n",
    "\n",
    "    if isinstance(A, int):  \n",
    "        A = list(range(1, A+ 1))\n",
    "\n",
    "    print(A)\n",
    "\n",
    "    # Step 1: Minimize detection cost\n",
    "    m1 = Model(\"Least_Detection_Path\")\n",
    "    m1.setParam(\"TimeLimit\", MAXTIME)\n",
    "    m1.setParam(\"MIPGap\", MIPGAP)\n",
    "    m1.setParam(\"OutputFlag\", 1)\n",
    "\n",
    "    # Decision variables: x[i] = 1 if arc i is used, 0 otherwise\n",
    "    x = m1.addVars(A, vtype=GRB.BINARY, name=\"x\")\n",
    "\n",
    "    # Objective: Minimize detection cost\n",
    "    m1.setObjective(sum(d[i] * x[i] for i in A), GRB.MINIMIZE)\n",
    "\n",
    "    # Debug: Print node count\n",
    "    print(f\"Total Nodes (N): {N}\")\n",
    "\n",
    "    # Ensure start and finish conditions\n",
    "    if s in inflow and s in outflow:\n",
    "        m1.addConstr(sum(x[k] for k in inflow.get(s, [])) - sum(x[k] for k in outflow.get(s, [])) == -1)\n",
    "    \n",
    "    if f in inflow and f in outflow:\n",
    "        m1.addConstr(sum(x[k] for k in inflow.get(f, [])) - sum(x[k] for k in outflow.get(f, [])) == 1)\n",
    "\n",
    "    # Flow conservation constraints (for intermediate nodes)\n",
    "    for i in range(1, N + 1):\n",
    "        inflow_arcs = inflow.get(i, [])\n",
    "        outflow_arcs = outflow.get(i, [])\n",
    "        \n",
    "        m1.addConstr(sum(x[k] for k in inflow_arcs) <= 1)\n",
    "        m1.addConstr(sum(x[k] for k in outflow_arcs) <= 1)\n",
    "        \n",
    "        if i != s and i != f:\n",
    "            m1.addConstr(sum(x[k] for k in inflow_arcs) - sum(x[k] for k in outflow_arcs) == 0)\n",
    "\n",
    "    # Time constraint\n",
    "    m1.addConstr(sum(t[i] * x[i] for i in A) <= E)  # Assuming E is the time limit (τ)\n",
    "\n",
    "    # Solve model\n",
    "    m1.optimize()\n",
    "\n",
    "    # Extract solution\n",
    "    if m1.status == GRB.OPTIMAL:\n",
    "        optimal_path = [i for i in A if x[i].x > 0.5]\n",
    "        path_cost = m1.objVal\n",
    "    else:\n",
    "        optimal_path = []\n",
    "        path_cost = None\n",
    "\n",
    "    print(\"Least detection path:\", optimal_path)\n",
    "    print(\"Detection cost:\", path_cost)\n",
    "\n",
    "    return optimal_path, path_cost\n",
    "\n",
    "def write_path(opt_path, scenario_name=\"default\"):\n",
    "    path_df = pd.DataFrame(opt_path, columns=[\"Path\"])\n",
    "    path_df.to_csv(f\"output_{scenario_name}.csv\", index=False)\n",
    "    print(f\"Path saved to output_{scenario_name}.csv\")\n"
   ]
  },
  {
   "cell_type": "code",
   "execution_count": 45,
   "metadata": {},
   "outputs": [
    {
     "name": "stdout",
     "output_type": "stream",
     "text": [
      "Type of inflow: <class 'dict'>\n",
      "Type of outflow: <class 'dict'>\n",
      "Inflow sample: [9, 18, 26, 53]\n",
      "Outflow sample: [46, 47, 48, 49]\n"
     ]
    }
   ],
   "source": [
    "print(f\"Type of inflow: {type(inflow)}\")  \n",
    "print(f\"Type of outflow: {type(outflow)}\")  \n",
    "\n",
    "print(f\"Inflow sample: {inflow.get(s, 'Not found')}\")  \n",
    "print(f\"Outflow sample: {outflow.get(f, 'Not found')}\")  \n",
    "\n"
   ]
  },
  {
   "cell_type": "code",
   "execution_count": 42,
   "metadata": {},
   "outputs": [
    {
     "name": "stdout",
     "output_type": "stream",
     "text": [
      "Nodes in inflow: [1, 2, 3, 4, 5, 6, 7, 8, 9, 10, 11, 12, 13, 14, 15, 16, 17, 18]\n",
      "Nodes in outflow: [1, 2, 3, 4, 5, 6, 7, 8, 9, 10, 11, 12, 13, 14, 15, 16, 17, 18]\n"
     ]
    }
   ],
   "source": [
    "print(f\"Nodes in inflow: {list(inflow.keys())}\")\n",
    "print(f\"Nodes in outflow: {list(outflow.keys())}\")\n"
   ]
  },
  {
   "cell_type": "code",
   "execution_count": 44,
   "metadata": {},
   "outputs": [
    {
     "ename": "KeyError",
     "evalue": "98",
     "output_type": "error",
     "traceback": [
      "\u001b[1;31m---------------------------------------------------------------------------\u001b[0m",
      "\u001b[1;31mKeyError\u001b[0m                                  Traceback (most recent call last)",
      "File \u001b[1;32m~\\AppData\\Roaming\\Python\\Python312\\site-packages\\pandas\\core\\indexes\\base.py:3805\u001b[0m, in \u001b[0;36mIndex.get_loc\u001b[1;34m(self, key)\u001b[0m\n\u001b[0;32m   3804\u001b[0m \u001b[38;5;28;01mtry\u001b[39;00m:\n\u001b[1;32m-> 3805\u001b[0m     \u001b[38;5;28;01mreturn\u001b[39;00m \u001b[38;5;28;43mself\u001b[39;49m\u001b[38;5;241;43m.\u001b[39;49m\u001b[43m_engine\u001b[49m\u001b[38;5;241;43m.\u001b[39;49m\u001b[43mget_loc\u001b[49m\u001b[43m(\u001b[49m\u001b[43mcasted_key\u001b[49m\u001b[43m)\u001b[49m\n\u001b[0;32m   3806\u001b[0m \u001b[38;5;28;01mexcept\u001b[39;00m \u001b[38;5;167;01mKeyError\u001b[39;00m \u001b[38;5;28;01mas\u001b[39;00m err:\n",
      "File \u001b[1;32mindex.pyx:167\u001b[0m, in \u001b[0;36mpandas._libs.index.IndexEngine.get_loc\u001b[1;34m()\u001b[0m\n",
      "File \u001b[1;32mindex.pyx:196\u001b[0m, in \u001b[0;36mpandas._libs.index.IndexEngine.get_loc\u001b[1;34m()\u001b[0m\n",
      "File \u001b[1;32mpandas\\\\_libs\\\\hashtable_class_helper.pxi:2606\u001b[0m, in \u001b[0;36mpandas._libs.hashtable.Int64HashTable.get_item\u001b[1;34m()\u001b[0m\n",
      "File \u001b[1;32mpandas\\\\_libs\\\\hashtable_class_helper.pxi:2630\u001b[0m, in \u001b[0;36mpandas._libs.hashtable.Int64HashTable.get_item\u001b[1;34m()\u001b[0m\n",
      "\u001b[1;31mKeyError\u001b[0m: 98",
      "\nThe above exception was the direct cause of the following exception:\n",
      "\u001b[1;31mKeyError\u001b[0m                                  Traceback (most recent call last)",
      "Cell \u001b[1;32mIn[44], line 2\u001b[0m\n\u001b[0;32m      1\u001b[0m \u001b[38;5;66;03m# Assume arcs is a DataFrame with columns like ['arc_id', 'start_node', 'end_node']\u001b[39;00m\n\u001b[1;32m----> 2\u001b[0m f \u001b[38;5;241m=\u001b[39m \u001b[43marcs\u001b[49m\u001b[43m[\u001b[49m\u001b[38;5;241;43m98\u001b[39;49m\u001b[43m]\u001b[49m\u001b[38;5;241m.\u001b[39mmax()  \u001b[38;5;66;03m# Setting f to the largest node number\u001b[39;00m\n",
      "File \u001b[1;32m~\\AppData\\Roaming\\Python\\Python312\\site-packages\\pandas\\core\\frame.py:4102\u001b[0m, in \u001b[0;36mDataFrame.__getitem__\u001b[1;34m(self, key)\u001b[0m\n\u001b[0;32m   4100\u001b[0m \u001b[38;5;28;01mif\u001b[39;00m \u001b[38;5;28mself\u001b[39m\u001b[38;5;241m.\u001b[39mcolumns\u001b[38;5;241m.\u001b[39mnlevels \u001b[38;5;241m>\u001b[39m \u001b[38;5;241m1\u001b[39m:\n\u001b[0;32m   4101\u001b[0m     \u001b[38;5;28;01mreturn\u001b[39;00m \u001b[38;5;28mself\u001b[39m\u001b[38;5;241m.\u001b[39m_getitem_multilevel(key)\n\u001b[1;32m-> 4102\u001b[0m indexer \u001b[38;5;241m=\u001b[39m \u001b[38;5;28;43mself\u001b[39;49m\u001b[38;5;241;43m.\u001b[39;49m\u001b[43mcolumns\u001b[49m\u001b[38;5;241;43m.\u001b[39;49m\u001b[43mget_loc\u001b[49m\u001b[43m(\u001b[49m\u001b[43mkey\u001b[49m\u001b[43m)\u001b[49m\n\u001b[0;32m   4103\u001b[0m \u001b[38;5;28;01mif\u001b[39;00m is_integer(indexer):\n\u001b[0;32m   4104\u001b[0m     indexer \u001b[38;5;241m=\u001b[39m [indexer]\n",
      "File \u001b[1;32m~\\AppData\\Roaming\\Python\\Python312\\site-packages\\pandas\\core\\indexes\\base.py:3812\u001b[0m, in \u001b[0;36mIndex.get_loc\u001b[1;34m(self, key)\u001b[0m\n\u001b[0;32m   3807\u001b[0m     \u001b[38;5;28;01mif\u001b[39;00m \u001b[38;5;28misinstance\u001b[39m(casted_key, \u001b[38;5;28mslice\u001b[39m) \u001b[38;5;129;01mor\u001b[39;00m (\n\u001b[0;32m   3808\u001b[0m         \u001b[38;5;28misinstance\u001b[39m(casted_key, abc\u001b[38;5;241m.\u001b[39mIterable)\n\u001b[0;32m   3809\u001b[0m         \u001b[38;5;129;01mand\u001b[39;00m \u001b[38;5;28many\u001b[39m(\u001b[38;5;28misinstance\u001b[39m(x, \u001b[38;5;28mslice\u001b[39m) \u001b[38;5;28;01mfor\u001b[39;00m x \u001b[38;5;129;01min\u001b[39;00m casted_key)\n\u001b[0;32m   3810\u001b[0m     ):\n\u001b[0;32m   3811\u001b[0m         \u001b[38;5;28;01mraise\u001b[39;00m InvalidIndexError(key)\n\u001b[1;32m-> 3812\u001b[0m     \u001b[38;5;28;01mraise\u001b[39;00m \u001b[38;5;167;01mKeyError\u001b[39;00m(key) \u001b[38;5;28;01mfrom\u001b[39;00m \u001b[38;5;21;01merr\u001b[39;00m\n\u001b[0;32m   3813\u001b[0m \u001b[38;5;28;01mexcept\u001b[39;00m \u001b[38;5;167;01mTypeError\u001b[39;00m:\n\u001b[0;32m   3814\u001b[0m     \u001b[38;5;66;03m# If we have a listlike key, _check_indexing_error will raise\u001b[39;00m\n\u001b[0;32m   3815\u001b[0m     \u001b[38;5;66;03m#  InvalidIndexError. Otherwise we fall through and re-raise\u001b[39;00m\n\u001b[0;32m   3816\u001b[0m     \u001b[38;5;66;03m#  the TypeError.\u001b[39;00m\n\u001b[0;32m   3817\u001b[0m     \u001b[38;5;28mself\u001b[39m\u001b[38;5;241m.\u001b[39m_check_indexing_error(key)\n",
      "\u001b[1;31mKeyError\u001b[0m: 98"
     ]
    }
   ],
   "source": [
    "# Assume arcs is a DataFrame with columns like ['arc_id', 'start_node', 'end_node']\n",
    "f = arcs[98].max()  # Setting f to the largest node number"
   ]
  },
  {
   "cell_type": "code",
   "execution_count": 50,
   "metadata": {},
   "outputs": [
    {
     "name": "stdout",
     "output_type": "stream",
     "text": [
      "Set parameter TimeLimit to value 120\n",
      "Set parameter MIPGap to value 0.01\n",
      "Set parameter OutputFlag to value 1\n"
     ]
    },
    {
     "ename": "KeyError",
     "evalue": "98",
     "output_type": "error",
     "traceback": [
      "\u001b[1;31m---------------------------------------------------------------------------\u001b[0m",
      "\u001b[1;31mValueError\u001b[0m                                Traceback (most recent call last)",
      "File \u001b[1;32m~\\AppData\\Roaming\\Python\\Python312\\site-packages\\pandas\\core\\indexes\\range.py:413\u001b[0m, in \u001b[0;36mRangeIndex.get_loc\u001b[1;34m(self, key)\u001b[0m\n\u001b[0;32m    412\u001b[0m \u001b[38;5;28;01mtry\u001b[39;00m:\n\u001b[1;32m--> 413\u001b[0m     \u001b[38;5;28;01mreturn\u001b[39;00m \u001b[38;5;28;43mself\u001b[39;49m\u001b[38;5;241;43m.\u001b[39;49m\u001b[43m_range\u001b[49m\u001b[38;5;241;43m.\u001b[39;49m\u001b[43mindex\u001b[49m\u001b[43m(\u001b[49m\u001b[43mnew_key\u001b[49m\u001b[43m)\u001b[49m\n\u001b[0;32m    414\u001b[0m \u001b[38;5;28;01mexcept\u001b[39;00m \u001b[38;5;167;01mValueError\u001b[39;00m \u001b[38;5;28;01mas\u001b[39;00m err:\n",
      "\u001b[1;31mValueError\u001b[0m: 98 is not in range",
      "\nThe above exception was the direct cause of the following exception:\n",
      "\u001b[1;31mKeyError\u001b[0m                                  Traceback (most recent call last)",
      "Cell \u001b[1;32mIn[50], line 1\u001b[0m\n\u001b[1;32m----> 1\u001b[0m \u001b[43mtwo_step_optimization\u001b[49m\u001b[43m(\u001b[49m\u001b[43mw\u001b[49m\u001b[43m,\u001b[49m\u001b[43m \u001b[49m\u001b[43mh\u001b[49m\u001b[43m,\u001b[49m\u001b[43m \u001b[49m\u001b[43ms\u001b[49m\u001b[43m,\u001b[49m\u001b[43m \u001b[49m\u001b[43mf\u001b[49m\u001b[43m,\u001b[49m\u001b[43m \u001b[49m\u001b[43mA\u001b[49m\u001b[43m,\u001b[49m\u001b[43m \u001b[49m\u001b[43mN\u001b[49m\u001b[43m,\u001b[49m\u001b[43m \u001b[49m\u001b[43md\u001b[49m\u001b[43m,\u001b[49m\u001b[43m \u001b[49m\u001b[43mt\u001b[49m\u001b[43m,\u001b[49m\u001b[43m \u001b[49m\u001b[43mE\u001b[49m\u001b[43m,\u001b[49m\u001b[43m \u001b[49m\u001b[43minflow\u001b[49m\u001b[43m,\u001b[49m\u001b[43m \u001b[49m\u001b[43moutflow\u001b[49m\u001b[43m,\u001b[49m\u001b[43m \u001b[49m\u001b[43mbatteryCapacity\u001b[49m\u001b[43m)\u001b[49m\n",
      "Cell \u001b[1;32mIn[49], line 20\u001b[0m, in \u001b[0;36mtwo_step_optimization\u001b[1;34m(w, h, s, f, A, N, d, t, E, inflow, outflow, batteryCapacity)\u001b[0m\n\u001b[0;32m     17\u001b[0m x \u001b[38;5;241m=\u001b[39m m1\u001b[38;5;241m.\u001b[39maddVars(A, vtype\u001b[38;5;241m=\u001b[39mGRB\u001b[38;5;241m.\u001b[39mBINARY, name\u001b[38;5;241m=\u001b[39m\u001b[38;5;124m\"\u001b[39m\u001b[38;5;124mx\u001b[39m\u001b[38;5;124m\"\u001b[39m)\n\u001b[0;32m     19\u001b[0m \u001b[38;5;66;03m# Objective: Minimize detection cost\u001b[39;00m\n\u001b[1;32m---> 20\u001b[0m m1\u001b[38;5;241m.\u001b[39msetObjective(\u001b[38;5;28;43msum\u001b[39;49m\u001b[43m(\u001b[49m\u001b[43md\u001b[49m\u001b[43m[\u001b[49m\u001b[43mi\u001b[49m\u001b[43m]\u001b[49m\u001b[43m \u001b[49m\u001b[38;5;241;43m*\u001b[39;49m\u001b[43m \u001b[49m\u001b[43mx\u001b[49m\u001b[43m[\u001b[49m\u001b[43mi\u001b[49m\u001b[43m]\u001b[49m\u001b[43m \u001b[49m\u001b[38;5;28;43;01mfor\u001b[39;49;00m\u001b[43m \u001b[49m\u001b[43mi\u001b[49m\u001b[43m \u001b[49m\u001b[38;5;129;43;01min\u001b[39;49;00m\u001b[43m \u001b[49m\u001b[43mA\u001b[49m\u001b[43m)\u001b[49m, GRB\u001b[38;5;241m.\u001b[39mMINIMIZE)\n\u001b[0;32m     22\u001b[0m \u001b[38;5;66;03m# Debug: Print node count\u001b[39;00m\n\u001b[0;32m     23\u001b[0m \u001b[38;5;28mprint\u001b[39m(\u001b[38;5;124mf\u001b[39m\u001b[38;5;124m\"\u001b[39m\u001b[38;5;124mTotal Nodes (N): \u001b[39m\u001b[38;5;132;01m{\u001b[39;00mN\u001b[38;5;132;01m}\u001b[39;00m\u001b[38;5;124m\"\u001b[39m)\n",
      "Cell \u001b[1;32mIn[49], line 20\u001b[0m, in \u001b[0;36m<genexpr>\u001b[1;34m(.0)\u001b[0m\n\u001b[0;32m     17\u001b[0m x \u001b[38;5;241m=\u001b[39m m1\u001b[38;5;241m.\u001b[39maddVars(A, vtype\u001b[38;5;241m=\u001b[39mGRB\u001b[38;5;241m.\u001b[39mBINARY, name\u001b[38;5;241m=\u001b[39m\u001b[38;5;124m\"\u001b[39m\u001b[38;5;124mx\u001b[39m\u001b[38;5;124m\"\u001b[39m)\n\u001b[0;32m     19\u001b[0m \u001b[38;5;66;03m# Objective: Minimize detection cost\u001b[39;00m\n\u001b[1;32m---> 20\u001b[0m m1\u001b[38;5;241m.\u001b[39msetObjective(\u001b[38;5;28msum\u001b[39m(\u001b[43md\u001b[49m\u001b[43m[\u001b[49m\u001b[43mi\u001b[49m\u001b[43m]\u001b[49m \u001b[38;5;241m*\u001b[39m x[i] \u001b[38;5;28;01mfor\u001b[39;00m i \u001b[38;5;129;01min\u001b[39;00m A), GRB\u001b[38;5;241m.\u001b[39mMINIMIZE)\n\u001b[0;32m     22\u001b[0m \u001b[38;5;66;03m# Debug: Print node count\u001b[39;00m\n\u001b[0;32m     23\u001b[0m \u001b[38;5;28mprint\u001b[39m(\u001b[38;5;124mf\u001b[39m\u001b[38;5;124m\"\u001b[39m\u001b[38;5;124mTotal Nodes (N): \u001b[39m\u001b[38;5;132;01m{\u001b[39;00mN\u001b[38;5;132;01m}\u001b[39;00m\u001b[38;5;124m\"\u001b[39m)\n",
      "File \u001b[1;32m~\\AppData\\Roaming\\Python\\Python312\\site-packages\\pandas\\core\\series.py:1121\u001b[0m, in \u001b[0;36mSeries.__getitem__\u001b[1;34m(self, key)\u001b[0m\n\u001b[0;32m   1118\u001b[0m     \u001b[38;5;28;01mreturn\u001b[39;00m \u001b[38;5;28mself\u001b[39m\u001b[38;5;241m.\u001b[39m_values[key]\n\u001b[0;32m   1120\u001b[0m \u001b[38;5;28;01melif\u001b[39;00m key_is_scalar:\n\u001b[1;32m-> 1121\u001b[0m     \u001b[38;5;28;01mreturn\u001b[39;00m \u001b[38;5;28;43mself\u001b[39;49m\u001b[38;5;241;43m.\u001b[39;49m\u001b[43m_get_value\u001b[49m\u001b[43m(\u001b[49m\u001b[43mkey\u001b[49m\u001b[43m)\u001b[49m\n\u001b[0;32m   1123\u001b[0m \u001b[38;5;66;03m# Convert generator to list before going through hashable part\u001b[39;00m\n\u001b[0;32m   1124\u001b[0m \u001b[38;5;66;03m# (We will iterate through the generator there to check for slices)\u001b[39;00m\n\u001b[0;32m   1125\u001b[0m \u001b[38;5;28;01mif\u001b[39;00m is_iterator(key):\n",
      "File \u001b[1;32m~\\AppData\\Roaming\\Python\\Python312\\site-packages\\pandas\\core\\series.py:1237\u001b[0m, in \u001b[0;36mSeries._get_value\u001b[1;34m(self, label, takeable)\u001b[0m\n\u001b[0;32m   1234\u001b[0m     \u001b[38;5;28;01mreturn\u001b[39;00m \u001b[38;5;28mself\u001b[39m\u001b[38;5;241m.\u001b[39m_values[label]\n\u001b[0;32m   1236\u001b[0m \u001b[38;5;66;03m# Similar to Index.get_value, but we do not fall back to positional\u001b[39;00m\n\u001b[1;32m-> 1237\u001b[0m loc \u001b[38;5;241m=\u001b[39m \u001b[38;5;28;43mself\u001b[39;49m\u001b[38;5;241;43m.\u001b[39;49m\u001b[43mindex\u001b[49m\u001b[38;5;241;43m.\u001b[39;49m\u001b[43mget_loc\u001b[49m\u001b[43m(\u001b[49m\u001b[43mlabel\u001b[49m\u001b[43m)\u001b[49m\n\u001b[0;32m   1239\u001b[0m \u001b[38;5;28;01mif\u001b[39;00m is_integer(loc):\n\u001b[0;32m   1240\u001b[0m     \u001b[38;5;28;01mreturn\u001b[39;00m \u001b[38;5;28mself\u001b[39m\u001b[38;5;241m.\u001b[39m_values[loc]\n",
      "File \u001b[1;32m~\\AppData\\Roaming\\Python\\Python312\\site-packages\\pandas\\core\\indexes\\range.py:415\u001b[0m, in \u001b[0;36mRangeIndex.get_loc\u001b[1;34m(self, key)\u001b[0m\n\u001b[0;32m    413\u001b[0m         \u001b[38;5;28;01mreturn\u001b[39;00m \u001b[38;5;28mself\u001b[39m\u001b[38;5;241m.\u001b[39m_range\u001b[38;5;241m.\u001b[39mindex(new_key)\n\u001b[0;32m    414\u001b[0m     \u001b[38;5;28;01mexcept\u001b[39;00m \u001b[38;5;167;01mValueError\u001b[39;00m \u001b[38;5;28;01mas\u001b[39;00m err:\n\u001b[1;32m--> 415\u001b[0m         \u001b[38;5;28;01mraise\u001b[39;00m \u001b[38;5;167;01mKeyError\u001b[39;00m(key) \u001b[38;5;28;01mfrom\u001b[39;00m \u001b[38;5;21;01merr\u001b[39;00m\n\u001b[0;32m    416\u001b[0m \u001b[38;5;28;01mif\u001b[39;00m \u001b[38;5;28misinstance\u001b[39m(key, Hashable):\n\u001b[0;32m    417\u001b[0m     \u001b[38;5;28;01mraise\u001b[39;00m \u001b[38;5;167;01mKeyError\u001b[39;00m(key)\n",
      "\u001b[1;31mKeyError\u001b[0m: 98"
     ]
    }
   ],
   "source": [
    "two_step_optimization(w, h, s, f, A, N, d, t, E, inflow, outflow, batteryCapacity)"
   ]
  }
 ],
 "metadata": {
  "kernelspec": {
   "display_name": "Python 3",
   "language": "python",
   "name": "python3"
  },
  "language_info": {
   "codemirror_mode": {
    "name": "ipython",
    "version": 3
   },
   "file_extension": ".py",
   "mimetype": "text/x-python",
   "name": "python",
   "nbconvert_exporter": "python",
   "pygments_lexer": "ipython3",
   "version": "3.12.6"
  }
 },
 "nbformat": 4,
 "nbformat_minor": 2
}
