{
 "cells": [
  {
   "cell_type": "markdown",
   "metadata": {},
   "source": [
    "### Optimal Tactical Pathing for UGV"
   ]
  },
  {
   "cell_type": "code",
   "execution_count": 1,
   "metadata": {},
   "outputs": [],
   "source": [
    "import gurobipy as gp\n",
    "from gurobipy import GRB\n",
    "import numpy as np\n",
    "import scipy.sparse as sp\n",
    "import pandas as pd\n",
    "import os\n",
    "import csv"
   ]
  },
  {
   "cell_type": "code",
   "execution_count": null,
   "metadata": {},
   "outputs": [],
   "source": [
    "SITUATION = \"Buckner\"\n",
    "SPACING = 40"
   ]
  },
  {
   "cell_type": "code",
   "execution_count": null,
   "metadata": {},
   "outputs": [],
   "source": [
    "sat_path = os.path.join(os.getcwd(), 'imagery', SITUATION+'.png')\n",
    "sat_map = np.asarray(Image.open(sat_path))\n",
    "l, w, h = sat_map.shape\n",
    "rows = l // SPACING\n",
    "cols = w // SPACING\n",
    "\n",
    "with open(SITUATION + f\"_arcs_{rows}_{cols}.csv\"\n",
    ", newline='') as csvfile:\n",
    "    reader = csv.reader(csvfile)\n",
    "    row_count = sum(1 for row in reader)"
   ]
  },
  {
   "cell_type": "code",
   "execution_count": null,
   "metadata": {},
   "outputs": [],
   "source": [
    "#User Input and Initial Calculations\n",
    "\n",
    "t = 60*60*60\n",
    "s = 1\n",
    "f = 9\n",
    "N=w*h*2\n",
    "A="
   ]
  },
  {
   "cell_type": "code",
   "execution_count": 2,
   "metadata": {},
   "outputs": [],
   "source": [
    "def two_step_optimization(w, h, s, f, A, N, d, t, E, tris, τ, inflow, outflow, batteryCapacity):\n",
    "    MAXTIME = 120\n",
    "    \n",
    "    # Step 1: Minimize detection to find the least-detection path\n",
    "    m1 = gp.Model()\n",
    "    m1.setParam('TimeLimit', MAXTIME)\n",
    "    m1.setParam('MIPGap', 1e-2)\n",
    "    m1.setParam('OutputFlag', 1)\n",
    "\n",
    "    # Decision variables for detection path\n",
    "    x = m1.addVars(A, vtype=GRB.BINARY, name=\"x\")\n",
    "    \n",
    "    # Objective function: minimize detection cost\n",
    "    m1.setObjective(gp.quicksum(d[i] * x[i] for i in range(A)), GRB.MINIMIZE)\n",
    "\n",
    "    # Constraints\n",
    "    for i in range(N):\n",
    "        m1.addConstr(gp.quicksum(x[k] for k in inflow[i]) <= 1)\n",
    "        m1.addConstr(gp.quicksum(x[k] for k in outflow[i]) <= 1)\n",
    "        m1.addConstr(gp.quicksum(x[k] for k in inflow[i] if i != f and i != s) -\n",
    "                      gp.quicksum(x[k] for k in outflow[i] if i != f and i != s) == 0)\n",
    "    \n",
    "    m1.addConstr(gp.quicksum(x[k] for k in inflow[s]) - gp.quicksum(x[k] for k in outflow[s]) == -1)\n",
    "    m1.addConstr(gp.quicksum(x[k] for k in inflow[f]) - gp.quicksum(x[k] for k in outflow[f]) == 1)\n",
    "\n",
    "    # tri_tot = len(tris)\n",
    "    # for t in range(tri_tot):\n",
    "    #     m1.addConstr(gp.quicksum(x[t] for t in tris[t]) <= 1)\n",
    "\n",
    "    m1.addConstr(gp.quicksum(t[i] * x[i] for i in range(A)) <= τ)\n",
    "\n",
    "    # Solve the optimization model\n",
    "    m1.optimize()\n",
    "\n",
    "    # Extract the least-detection path\n",
    "    optimal_path = np.array([x[i].X for i in range(A)])\n",
    "    path_cost = m1.objVal\n",
    "\n",
    "    print(\"Least detection path:\", optimal_path)\n",
    "    print(\"Detection cost:\", path_cost)\n",
    "\n",
    "    # Step 2: Optimize generator usage along the given path\n",
    "    m2 = gp.Model()\n",
    "    m2.setParam('TimeLimit', MAXTIME)\n",
    "    m2.setParam('MIPGap', 1e-2)\n",
    "    m2.setParam('OutputFlag', 1)\n",
    "\n",
    "    # Decision variables for battery levels and generator status\n",
    "    batteryLevel = m2.addVars(A, lb=0, name=\"batteryLevel\")\n",
    "    y = m2.addVars(A, vtype=GRB.BINARY, name=\"y\")\n",
    "    \n",
    "    # Objective function: minimize energy cost\n",
    "    m2.setObjective(gp.quicksum(E[i] * optimal_path[i] * (1 - y[i]) for i in range(A)), GRB.MINIMIZE)\n",
    "\n",
    "    # Constraints for battery levels\n",
    "    m2.addConstr(batteryLevel[0] == batteryCapacity)\n",
    "    for i in range(1, A):\n",
    "        m2.addConstr(batteryLevel[i] == batteryLevel[i-1] - E[i-1] * optimal_path[i-1] * (1 - y[i-1]))\n",
    "    \n",
    "    for i in range(A):\n",
    "        m2.addConstr(batteryLevel[i] >= 0)\n",
    "        m2.addConstr(batteryLevel[i] <= batteryCapacity)\n",
    "\n",
    "    m2.addConstr(gp.quicksum(E[i] * optimal_path[i] * (1 - y[i]) for i in range(A)) <= batteryCapacity)\n",
    "\n",
    "    # Solve the optimization model\n",
    "    m2.optimize()\n",
    "\n",
    "    generator_decision = np.array([y[i].X for i in range(A)])\n",
    "    final_objective = m2.objVal\n",
    "\n",
    "    print(\"Generator decisions:\", generator_decision)\n",
    "    print(\"Final energy cost:\", final_objective)\n",
    "\n",
    "    return optimal_path, generator_decision, path_cost, final_objective\n",
    "\n",
    "\n",
    "def write_path(opt_path, A, scenario_name):\n",
    "    path = []\n",
    "    for i in range(A):\n",
    "        if opt_path[i] == 1:\n",
    "            path.append(i)\n",
    "    \n",
    "    K = len(path)\n",
    "    path_table = np.zeros((K, 2))\n",
    "    for i in range(K):\n",
    "        path_table[i] = [path[i], 1]  # Assuming you want to record path and some value\n",
    "    \n",
    "    path_df = pd.DataFrame(path_table, columns=[\"Node\", \"Value\"])\n",
    "    path_df.to_csv(f\"output_{scenario_name}.csv\", index=False)\n"
   ]
  }
 ],
 "metadata": {
  "kernelspec": {
   "display_name": "Python 3",
   "language": "python",
   "name": "python3"
  },
  "language_info": {
   "codemirror_mode": {
    "name": "ipython",
    "version": 3
   },
   "file_extension": ".py",
   "mimetype": "text/x-python",
   "name": "python",
   "nbconvert_exporter": "python",
   "pygments_lexer": "ipython3",
   "version": "3.12.6"
  }
 },
 "nbformat": 4,
 "nbformat_minor": 2
}
