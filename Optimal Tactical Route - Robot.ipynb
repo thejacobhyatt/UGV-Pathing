{
 "cells": [
  {
   "cell_type": "markdown",
   "metadata": {},
   "source": [
    "# Robust Optimization Final Project Code"
   ]
  },
  {
   "cell_type": "markdown",
   "metadata": {},
   "source": [
    "## Declare Variables and Input Information"
   ]
  },
  {
   "cell_type": "code",
   "execution_count": 1,
   "metadata": {},
   "outputs": [
    {
     "data": {
      "text/plain": [
       "Gurobi.Env(Ptr{Nothing} @0x000000007d3dd4f0, false, 0)"
      ]
     },
     "execution_count": 1,
     "metadata": {},
     "output_type": "execute_result"
    }
   ],
   "source": [
    "using JuMP, Gurobi, CSV, DataFrames\n",
    "\n",
    "const GRB_ENV = Gurobi.Env()"
   ]
  },
  {
   "cell_type": "markdown",
   "metadata": {},
   "source": [
    "### Update Every Time"
   ]
  },
  {
   "cell_type": "code",
   "execution_count": 21,
   "metadata": {},
   "outputs": [
    {
     "data": {
      "text/plain": [
       "5000"
      ]
     },
     "execution_count": 21,
     "metadata": {},
     "output_type": "execute_result"
    }
   ],
   "source": [
    "scenario_name = \"fixed\"\n",
    "w=51\n",
    "h=51\n",
    "batteryCapacity = 5000"
   ]
  },
  {
   "cell_type": "code",
   "execution_count": 22,
   "metadata": {},
   "outputs": [],
   "source": [
    "dir2 = \"Robot Pathing/\";\n",
    "\n",
    "# DR_input = dir2 * \"Detection.csv\";\n",
    "# E_input = dir2 * \"Adjacency.csv\";\n",
    "# T_input = dir2 * \"Time.csv\";\n",
    "# robust_output = dir2 * \"robust_output.csv\";\n",
    "# robust_path = dir2*\"robust_path.csv\";\n",
    "\n",
    "# #read in the data files\n",
    "# DR = CSV.read(DR_input, DataFrame, header=0);\n",
    "# T = CSV.read(T_input, DataFrame, header=0);\n",
    "# E = CSV.read(E_input, DataFrame, header=0);\n",
    "# tri = CSV.read(\"100_triangles.csv\", DataFrame, header=0);\n",
    "# D_b = CSV.read(dir2* \"Detection_buffer.csv\", DataFrame, header=0);\n",
    "# n = size(T)[1];\n",
    "\n",
    "wh_string=string(w)*\"_\"*string(h)\n",
    "arcs_file=\"arcs_\"*wh_string*\"_\"*scenario_name*\".csv\";\n",
    "tri_file=wh_string*\"_triangle.csv\"\n",
    "# CS_file = wh_string*\"_CS.csv\"\n",
    "arcs= CSV.read(arcs_file, DataFrame, header=0);\n",
    "tri= CSV.read(tri_file, DataFrame, header=0);\n",
    "# CS = CSV.read(CS_file, DataFrame, header=0);\n",
    "ins = CSV.read(wh_string*\"_inflow.csv\", DataFrame, header=0);\n",
    "outs = CSV.read(wh_string*\"_outflow.csv\", DataFrame, header=0);\n"
   ]
  },
  {
   "cell_type": "code",
   "execution_count": 11,
   "metadata": {},
   "outputs": [],
   "source": [
    "D_lin = arcs[!,4];\n",
    "T_lin = arcs[!,5];\n",
    "E_lin = arcs[!,6];\n",
    "# C=CS[!,1];\n",
    "\n",
    "tris=[]\n",
    "for t in eachrow(tri)\n",
    "    new_t=[]\n",
    "    for a in t\n",
    "        if a!=0\n",
    "            append!(new_t,a)\n",
    "        end\n",
    "    end\n",
    "    push!(tris,new_t)\n",
    "end\n",
    "IN=size(ins,1)\n",
    "inflow=[]\n",
    "outflow=[]\n",
    "for i in 1:IN\n",
    "    new_in=[]\n",
    "    new_out=[]\n",
    "    for j in 1:10\n",
    "        if ins[i,j]!=0\n",
    "            append!(new_in,ins[i,j])\n",
    "            append!(new_out,outs[i,j])\n",
    "        end\n",
    "    end\n",
    "    push!(inflow,new_in)\n",
    "    push!(outflow,new_out)\n",
    "end        "
   ]
  },
  {
   "cell_type": "code",
   "execution_count": 12,
   "metadata": {},
   "outputs": [
    {
     "data": {
      "text/plain": [
       "45602"
      ]
     },
     "execution_count": 12,
     "metadata": {},
     "output_type": "execute_result"
    }
   ],
   "source": [
    "#User Input and Initial Calculations\n",
    "τ = 60*60*60; #number of seconds to traverse the graph\n",
    "# S_max=7\n",
    "# C_max=5\n",
    "s = 1 #the starting node of the troops\n",
    "f = 2601 #the destination node of the troops\n",
    "N=w*h*2;\n",
    "A=28*w*h-18*(w+h)+12;\n",
    "A=4-6(w+h)+ 8*(w*h)\n",
    "A = 45602"
   ]
  },
  {
   "cell_type": "markdown",
   "metadata": {},
   "source": [
    "## Solve the Model"
   ]
  },
  {
   "cell_type": "code",
   "execution_count": 27,
   "metadata": {},
   "outputs": [
    {
     "name": "stdout",
     "output_type": "stream",
     "text": [
      "Set parameter TimeLimit to value 90\n",
      "Set parameter MIPGap to value 0.01\n"
     ]
    },
    {
     "ename": "LoadError",
     "evalue": "MethodError: no method matching max(::Vector{Float64})\n\u001b[0mClosest candidates are:\n\u001b[0m  max(::Any, \u001b[91m::Missing\u001b[39m) at missing.jl:137\n\u001b[0m  max(::Any, \u001b[91m::Any\u001b[39m) at operators.jl:480\n\u001b[0m  max(::Any, \u001b[91m::Any\u001b[39m, \u001b[91m::Any\u001b[39m, \u001b[91m::Any...\u001b[39m) at operators.jl:591\n\u001b[0m  ...",
     "output_type": "error",
     "traceback": [
      "MethodError: no method matching max(::Vector{Float64})\n\u001b[0mClosest candidates are:\n\u001b[0m  max(::Any, \u001b[91m::Missing\u001b[39m) at missing.jl:137\n\u001b[0m  max(::Any, \u001b[91m::Any\u001b[39m) at operators.jl:480\n\u001b[0m  max(::Any, \u001b[91m::Any\u001b[39m, \u001b[91m::Any\u001b[39m, \u001b[91m::Any...\u001b[39m) at operators.jl:591\n\u001b[0m  ...",
      "",
      "Stacktrace:",
      " [1] macro expansion",
      "   @ C:\\Users\\jacob.hyatt\\.julia\\packages\\MutableArithmetics\\geMUn\\src\\rewrite.jl:322 [inlined]",
      " [2] macro expansion",
      "   @ C:\\Users\\jacob.hyatt\\.julia\\packages\\JuMP\\bofhg\\src\\macros.jl:1293 [inlined]",
      " [3] two_step_en(w::Int64, h::Int64, s::Int64, f::Int64, A::Int64, N::Int64, d::Vector{Float64}, t::Vector{Float64}, E::Vector{Float64}, tris::Vector{Any}, τ::Int64, inflow::Vector{Any}, outflow::Vector{Any})",
      "   @ Main .\\In[26]:7",
      " [4] macro expansion",
      "   @ .\\In[27]:2 [inlined]",
      " [5] top-level scope",
      "   @ .\\timing.jl:263 [inlined]",
      " [6] top-level scope",
      "   @ .\\In[27]:0"
     ]
    }
   ],
   "source": [
    "@time begin\n",
    "    pathrob,objT,sTime = two_step_en(w,h,s,f,A,N,D_lin,T_lin,E_lin,tris,τ,inflow,outflow)\n",
    "    end \n",
    "\n",
    "write_path(pathrob, A)"
   ]
  },
  {
   "cell_type": "code",
   "execution_count": 61,
   "metadata": {},
   "outputs": [
    {
     "ename": "LoadError",
     "evalue": "UndefVarError: optimalpath not defined",
     "output_type": "error",
     "traceback": [
      "UndefVarError: optimalpath not defined",
      "",
      "Stacktrace:",
      " [1] top-level scope",
      "   @ In[61]:3"
     ]
    }
   ],
   "source": [
    "write_path(pathrob, A)\n",
    "\n",
    "print(optimalpath)"
   ]
  },
  {
   "cell_type": "markdown",
   "metadata": {},
   "source": [
    "## Optimization Functions"
   ]
  },
  {
   "cell_type": "code",
   "execution_count": null,
   "metadata": {},
   "outputs": [
    {
     "data": {
      "text/plain": [
       "write_path (generic function with 1 method)"
      ]
     },
     "execution_count": 26,
     "metadata": {},
     "output_type": "execute_result"
    }
   ],
   "source": [
    "function two_step_en(w,h,s,f,A,N,d,t,E,tris,τ,inflow,outflow)\n",
    "    m = Model(() -> Gurobi.Optimizer(GRB_ENV));\n",
    "    MAXTIME=90\n",
    "    set_optimizer_attributes(m, \"TimeLimit\" => MAXTIME, \"MIPGap\" => 1e-2, \"OutputFlag\" => 1);\n",
    "    @variable(m, x[1:A], Bin)\n",
    "    @variable(m, batteryLevel[1:A] >= 0) # battery level at each step\n",
    "    @objective(m, Min, sum(d[i]*x[i] for i in 1:A) + (1/maximum(E))*sum(E[i]*x[i] for i in 1:A))\n",
    "    ## (1/maximum(E))*\n",
    "    @constraint(m, [i in 1:N], sum(x[k] for k in inflow[i])<=1)\n",
    "    @constraint(m, [i in 1:N], sum(x[k] for k in outflow[i])<=1)\n",
    "    @constraint(m, [i in 1:N], sum(x[k] for k in inflow[i] if i!=f && i!=s)-sum(x[k] for k in outflow[i] if i!=f && i!=s)==0)\n",
    "    @constraint(m, sum(x[k] for k in inflow[s])-sum(x[k] for k in outflow[s])==-1)\n",
    "    @constraint(m, sum(x[k] for k in inflow[f])-sum(x[k] for k in outflow[f])==1)\n",
    "    @constraint(m, batteryLevel[1] == batteryCapacity) # initialize battery level\n",
    "\n",
    "    tri_tot=length(tris)\n",
    "    @constraint(m, [t in 1:tri_tot], sum(x[t] for t in tris[t])<=1)\n",
    "    @constraint(m, sum(t[i]*x[i] for i=1:A) <= τ)\n",
    "    @constraint(m, [i in 2:A], batteryLevel[i] == batteryLevel[i-1] - E[i-1] * x[i-1])  # update battery level at each step\n",
    "    @constraint(m, [i in 1:A], batteryLevel[i] >= 0) # make sure it is never below 0\n",
    "    @constraint(m, [i in 1:A], batteryLevel[i] <= batteryCapacity)\n",
    "    @constraint(m, sum(E[i]*x[i] for i=1:A) <= batteryCapacity)\n",
    "\n",
    "    optimize!(m)\n",
    "    #time=MOI.get(m, MOI.SolveTime())\n",
    "    #D_opt=objective_value(m)\n",
    "    \n",
    "    #@objective(m, Min, sum(E[i]*x[i] for i in 1:A))\n",
    "    #@constraint(m, sum(d[i]*x[i] for i in 1:A)<=D_opt)\n",
    "    #optimize!(m)\n",
    "    optimalpath = value.(x)\n",
    "    objective = objective_value(m)\n",
    "    #time+=MOI.get(m, MOI.SolveTime())\n",
    "    print(optimalpath)\n",
    "    return optimalpath, objective, time\n",
    "end\n",
    "\n",
    "function write_path(opt_path, A)\n",
    "    path=[]\n",
    "    for i in 1:A\n",
    "        if opt_path[i]==1\n",
    "            append!(path,i)\n",
    "        end\n",
    "    end\n",
    "    K=length(path)\n",
    "    path_table=zeros(K,2)\n",
    "    for i in 1:K\n",
    "        path_table[i]=path[i]\n",
    "    end\n",
    "    path_output3 = DataFrame(path_table, :auto);\n",
    "    CSV.write(\"output_\"*scenario_name*\".csv\", path_output3); \n",
    "end"
   ]
  }
 ],
 "metadata": {
  "kernelspec": {
   "display_name": "Julia 1.8.0",
   "language": "julia",
   "name": "julia-1.8"
  },
  "language_info": {
   "file_extension": ".jl",
   "mimetype": "application/julia",
   "name": "julia",
   "version": "1.8.0"
  }
 },
 "nbformat": 4,
 "nbformat_minor": 2
}
