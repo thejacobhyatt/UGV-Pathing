{
 "cells": [
  {
   "cell_type": "markdown",
   "metadata": {},
   "source": [
    "# Robust Optimization Final Project Code"
   ]
  },
  {
   "cell_type": "markdown",
   "metadata": {},
   "source": [
    "## Declare Variables and Input Information"
   ]
  },
  {
   "cell_type": "code",
   "execution_count": 3,
   "metadata": {},
   "outputs": [
    {
     "data": {
      "text/plain": [
       "Gurobi.Env(Ptr{Nothing} @0x000000007f18c090, false, 0)"
      ]
     },
     "execution_count": 3,
     "metadata": {},
     "output_type": "execute_result"
    }
   ],
   "source": [
    "using JuMP, Gurobi, CSV, DataFrames\n",
    "\n",
    "const GRB_ENV = Gurobi.Env()"
   ]
  },
  {
   "cell_type": "code",
   "execution_count": 17,
   "metadata": {},
   "outputs": [
    {
     "data": {
      "text/plain": [
       "48400"
      ]
     },
     "execution_count": 17,
     "metadata": {},
     "output_type": "execute_result"
    }
   ],
   "source": [
    "dir2 = \"Robot Pathing/\";\n",
    "\n",
    "# DR_input = dir2 * \"Detection.csv\";\n",
    "# E_input = dir2 * \"Adjacency.csv\";\n",
    "# T_input = dir2 * \"Time.csv\";\n",
    "# robust_output = dir2 * \"robust_output.csv\";\n",
    "# robust_path = dir2*\"robust_path.csv\";\n",
    "\n",
    "# #read in the data files\n",
    "# DR = CSV.read(DR_input, DataFrame, header=0);\n",
    "# T = CSV.read(T_input, DataFrame, header=0);\n",
    "# E = CSV.read(E_input, DataFrame, header=0);\n",
    "# tri = CSV.read(\"100_triangles.csv\", DataFrame, header=0);\n",
    "# D_b = CSV.read(dir2* \"Detection_buffer.csv\", DataFrame, header=0);\n",
    "# n = size(T)[1];\n",
    "w=11\n",
    "h=11\n",
    "wh_string=string(w)*\"_\"*string(h)\n",
    "scenario_name = \"test\"\n",
    "arcs_file=\"arcs_\"*wh_string*\"_\"*scenario_name*\".csv\";\n",
    "tri_file=wh_string*\"_triangle.csv\"\n",
    "# CS_file = wh_string*\"_CS.csv\"\n",
    "arcs= CSV.read(arcs_file, DataFrame, header=0);\n",
    "tri= CSV.read(tri_file, DataFrame, header=0);\n",
    "# CS = CSV.read(CS_file, DataFrame, header=0);\n",
    "ins = CSV.read(wh_string*\"_inflow.csv\", DataFrame, header=0);\n",
    "outs = CSV.read(wh_string*\"_outflow.csv\", DataFrame, header=0);\n",
    "batteryCapacity = 200*(2*w*h)"
   ]
  },
  {
   "cell_type": "code",
   "execution_count": 18,
   "metadata": {},
   "outputs": [],
   "source": [
    "D_lin = arcs[!,4];\n",
    "T_lin = arcs[!,5];\n",
    "E_lin = arcs[!,6];\n",
    "# C=CS[!,1];\n",
    "\n",
    "tris=[]\n",
    "for t in eachrow(tri)\n",
    "    new_t=[]\n",
    "    for a in t\n",
    "        if a!=0\n",
    "            append!(new_t,a)\n",
    "        end\n",
    "    end\n",
    "    push!(tris,new_t)\n",
    "end\n",
    "IN=size(ins,1)\n",
    "inflow=[]\n",
    "outflow=[]\n",
    "for i in 1:IN\n",
    "    new_in=[]\n",
    "    new_out=[]\n",
    "    for j in 1:10\n",
    "        if ins[i,j]!=0\n",
    "            append!(new_in,ins[i,j])\n",
    "            append!(new_out,outs[i,j])\n",
    "        end\n",
    "    end\n",
    "    push!(inflow,new_in)\n",
    "    push!(outflow,new_out)\n",
    "end        "
   ]
  },
  {
   "cell_type": "code",
   "execution_count": 89,
   "metadata": {},
   "outputs": [],
   "source": [
    "# D_lin, T_lin, e_code, tris = linearizeModel(100,100,E,DR,T,tri);"
   ]
  },
  {
   "cell_type": "code",
   "execution_count": 19,
   "metadata": {},
   "outputs": [
    {
     "data": {
      "text/plain": [
       "840"
      ]
     },
     "execution_count": 19,
     "metadata": {},
     "output_type": "execute_result"
    }
   ],
   "source": [
    "#User Input and Initial Calculations\n",
    "τ = 60*60*60; #number of seconds to traverse the graph\n",
    "# S_max=7\n",
    "# C_max=5\n",
    "s = 1 #the starting node of the troops\n",
    "f = 121 #the destination node of the troops\n",
    "N=w*h;\n",
    "A=28*w*h-18*(w+h)+12;\n",
    "A=4-6(w+h)+ 8*(w*h)"
   ]
  },
  {
   "cell_type": "markdown",
   "metadata": {},
   "source": [
    "## Solve the Model"
   ]
  },
  {
   "cell_type": "code",
   "execution_count": 21,
   "metadata": {},
   "outputs": [
    {
     "name": "stdout",
     "output_type": "stream",
     "text": [
      "Set parameter TimeLimit to value 600\n",
      "Set parameter TimeLimit to value 600\n",
      "  0.217944 seconds (107.93 k allocations: 7.270 MiB)\n"
     ]
    },
    {
     "data": {
      "text/plain": [
       "\"output_test.csv\""
      ]
     },
     "execution_count": 21,
     "metadata": {},
     "output_type": "execute_result"
    }
   ],
   "source": [
    "@time begin\n",
    "    pathrob,objT,sTime,objD=two_step_en(w,h,s,f,A,N,D_lin,T_lin,E_lin,tris,τ,inflow,outflow)\n",
    "    end \n",
    "\n",
    "write_path(pathrob, A)"
   ]
  },
  {
   "cell_type": "code",
   "execution_count": 27,
   "metadata": {},
   "outputs": [
    {
     "name": "stdout",
     "output_type": "stream",
     "text": [
      "Set parameter TimeLimit to value 600\n",
      "Set parameter TimeLimit to value 600\n",
      "  5.953168 seconds (2.22 M allocations: 118.039 MiB, 2.25% gc time, 96.43% compilation time)\n"
     ]
    },
    {
     "data": {
      "text/plain": [
       "([0.0, 1.0, 0.0, 0.0, 0.0, 0.0, 0.0, 0.0, 0.0, 0.0  …  0.0, 0.0, 0.0, 0.0, 0.0, 0.0, 0.0, 0.0, 0.0, 0.0], 59.799961640843605, time, 2.1986803057871187)"
      ]
     },
     "execution_count": 27,
     "metadata": {},
     "output_type": "execute_result"
    }
   ],
   "source": [
    "@time begin\n",
    "    pathrob,objT,sTime,objD=two_step(w,h,s,f,A,N,D_lin,T_lin,E_lin,tris,τ,inflow,outflow)\n",
    "    end "
   ]
  },
  {
   "cell_type": "code",
   "execution_count": 12,
   "metadata": {},
   "outputs": [
    {
     "data": {
      "text/plain": [
       "\"output_3 Enemies.csv\""
      ]
     },
     "execution_count": 12,
     "metadata": {},
     "output_type": "execute_result"
    }
   ],
   "source": [
    "write_path(pathrob, A)"
   ]
  },
  {
   "cell_type": "markdown",
   "metadata": {},
   "source": [
    "## Common Functions"
   ]
  },
  {
   "cell_type": "code",
   "execution_count": 15,
   "metadata": {},
   "outputs": [
    {
     "data": {
      "text/plain": [
       "write_path (generic function with 1 method)"
      ]
     },
     "execution_count": 15,
     "metadata": {},
     "output_type": "execute_result"
    }
   ],
   "source": [
    "function two_step(w,h,s,f,A,N,d,t,tris,τ,inflow,outflow)\n",
    "    m = Model(() -> Gurobi.Optimizer(GRB_ENV));\n",
    "    MAXTIME=600\n",
    "    set_optimizer_attributes(m, \"TimeLimit\" => MAXTIME, \"MIPGap\" => 1e-4, \"OutputFlag\" => 0);\n",
    "    @variable(m, x[1:A], Bin)\n",
    "    @objective(m, Min, sum(d[i]*x[i] for i in 1:A))\n",
    "    \n",
    "    @constraint(m, [i in 1:N], sum(x[k] for k in inflow[i])<=1)\n",
    "    @constraint(m, [i in 1:N], sum(x[k] for k in outflow[i])<=1)\n",
    "    @constraint(m, [i in 1:N], sum(x[k] for k in inflow[i] if i!=f && i!=s)-sum(x[k] for k in outflow[i] if i!=f && i!=s)==0)\n",
    "    @constraint(m, sum(x[k] for k in inflow[s])-sum(x[k] for k in outflow[s])==-1)\n",
    "    @constraint(m, sum(x[k] for k in inflow[f])-sum(x[k] for k in outflow[f])==1)\n",
    "\n",
    "    tri_tot=length(tris)\n",
    "    @constraint(m, [t in 1:tri_tot], sum(x[t] for t in tris[t])<=1)\n",
    "    @constraint(m, sum(t[i]*x[i] for i=1:A) <= τ)\n",
    "    optimize!(m)\n",
    "    #time=MOI.get(m, MOI.SolveTime()) \n",
    "    D_opt=objective_value(m)\n",
    "    \n",
    "    @objective(m, Min, sum(t[i]*x[i] for i in 1:A))\n",
    "    @constraint(m, sum(d[i]*x[i] for i in 1:A)<=D_opt)\n",
    "    optimize!(m)\n",
    "    optimalpath = value.(x)\n",
    "    objective = objective_value(m)\n",
    "    #time+=MOI.get(m, MOI.SolveTime())\n",
    "    return optimalpath, objective, time, D_opt\n",
    "end\n",
    "\n",
    "function two_step_en(w,h,s,f,A,N,d,t,E,tris,τ,inflow,outflow)\n",
    "    m = Model(() -> Gurobi.Optimizer(GRB_ENV));\n",
    "    MAXTIME=600\n",
    "    set_optimizer_attributes(m, \"TimeLimit\" => MAXTIME, \"MIPGap\" => 1e-4, \"OutputFlag\" => 0);\n",
    "    @variable(m, x[1:A], Bin)\n",
    "    @objective(m, Min, sum(d[i]*x[i] for i in 1:A))\n",
    "    \n",
    "    @constraint(m, [i in 1:N], sum(x[k] for k in inflow[i])<=1)\n",
    "    @constraint(m, [i in 1:N], sum(x[k] for k in outflow[i])<=1)\n",
    "    @constraint(m, [i in 1:N], sum(x[k] for k in inflow[i] if i!=f && i!=s)-sum(x[k] for k in outflow[i] if i!=f && i!=s)==0)\n",
    "    @constraint(m, sum(x[k] for k in inflow[s])-sum(x[k] for k in outflow[s])==-1)\n",
    "    @constraint(m, sum(x[k] for k in inflow[f])-sum(x[k] for k in outflow[f])==1)\n",
    "\n",
    "    tri_tot=length(tris)\n",
    "    @constraint(m, [t in 1:tri_tot], sum(x[t] for t in tris[t])<=1)\n",
    "    @constraint(m, sum(t[i]*x[i] for i=1:A) <= τ)\n",
    "    @constraint(m, sum(E[i]*x[i] for i=1:A) <= batteryCapacity)\n",
    "    optimize!(m)\n",
    "    #time=MOI.get(m, MOI.SolveTime())\n",
    "    D_opt=objective_value(m)\n",
    "    \n",
    "    @objective(m, Min, sum(E[i]*x[i] for i in 1:A))\n",
    "    @constraint(m, sum(d[i]*x[i] for i in 1:A)<=D_opt)\n",
    "    optimize!(m)\n",
    "    optimalpath = value.(x)\n",
    "    objective = objective_value(m)\n",
    "    #time+=MOI.get(m, MOI.SolveTime())\n",
    "    return optimalpath, objective, time, D_opt\n",
    "end\n",
    "\n",
    "function one_step(w,h,s,f,A,N,S_m,C_m,d,t,tris,τ,C,S,inflow,outflow)\n",
    "    m = Model(() -> Gurobi.Optimizer(GRB_ENV));\n",
    "    MAXTIME=600\n",
    "    set_optimizer_attributes(m, \"TimeLimit\" => MAXTIME, \"MIPGap\" => 1e-4, \"OutputFlag\" => 0);\n",
    "    @variable(m, x[1:A], Bin)\n",
    "    @objective(m, Min, sum(d[i]*x[i] for i in 1:A))\n",
    "    \n",
    "    @constraint(m, [i in 1:N], sum(x[k] for k in inflow[i])<=1)\n",
    "    @constraint(m, [i in 1:N], sum(x[k] for k in outflow[i])<=1)\n",
    "    @constraint(m, [i in 1:N], sum(x[k] for k in inflow[i] if i!=f && i!=s)-sum(x[k] for k in outflow[i] if i!=f && i!=s)==0)\n",
    "    @constraint(m, sum(x[k] for k in inflow[s])-sum(x[k] for k in outflow[s])==-1)\n",
    "    @constraint(m, sum(x[k] for k in inflow[f])-sum(x[k] for k in outflow[f])==1)\n",
    "\n",
    "    tri_tot=length(tris)\n",
    "    @constraint(m, [t in 1:tri_tot], sum(x[t] for t in tris[t])<=1)\n",
    "    C_tot=length(C)\n",
    "    @constraint(m, sum(x[k] for k in C)<=C_max)\n",
    "    @constraint(m, sum(x[k] for k in S)<=S_max)\n",
    "    @constraint(m, sum(t[i]*x[i] for i=1:A) <= τ)\n",
    "    optimize!(m)\n",
    "    time=MOI.get(m, MOI.SolveTime())\n",
    "    optimalpath = value.(x)\n",
    "    objective = objective_value(m)\n",
    "    objT=sum(optimalpath.*t)\n",
    "    return optimalpath, objective, time, objT\n",
    "end\n",
    "function write_path(opt_path, A)\n",
    "    path=[]\n",
    "    for i in 1:A\n",
    "        if opt_path[i]==1\n",
    "            append!(path,i)\n",
    "        end\n",
    "    end\n",
    "    K=length(path)\n",
    "    path_table=zeros(K,2)\n",
    "    for i in 1:K\n",
    "        path_table[i]=path[i]\n",
    "    end\n",
    "    path_output3 = DataFrame(path_table, :auto);\n",
    "    CSV.write(\"output_\"*scenario_name*\".csv\", path_output3); \n",
    "end"
   ]
  },
  {
   "cell_type": "code",
   "execution_count": 45,
   "metadata": {},
   "outputs": [
    {
     "data": {
      "text/plain": [
       "solve_two_step (generic function with 1 method)"
      ]
     },
     "execution_count": 45,
     "metadata": {},
     "output_type": "execute_result"
    }
   ],
   "source": [
    "function write_opt_path(opt_path, N)\n",
    "    pathrob_key=zeros(N,2)\n",
    "    node_path=[]\n",
    "    for i in 1:N\n",
    "        pathrob_key[i,1]+=i\n",
    "        pathrob_key[i,2]=pathrob[i]\n",
    "        if pathrob[i]>0\n",
    "            append!(node_path,findall(x->x==i,e_code))\n",
    "        end\n",
    "    end\n",
    "    K=size(node_path)[1]\n",
    "    node_path_table=zeros(K,2)\n",
    "    for k in 1:K\n",
    "        node_path_table[k,1]+=node_path[k][1]\n",
    "        node_path_table[k,2]+=node_path[k][2]\n",
    "    end\n",
    "\n",
    "    path_output3 = DataFrame(node_path_table);\n",
    "    CSV.write(robust_path, path_output3); \n",
    "end\n",
    "\n",
    "function linearizeModel(w,h,E,D,T,Tri)\n",
    "    N=28*w*h-18*(w+h)+12\n",
    "    D_lin=zeros(N)\n",
    "    T_lin=zeros(N)\n",
    "    k=1\n",
    "    e_code=Matrix(E)\n",
    "    for i in 1:n\n",
    "        for j in 1:n\n",
    "            if E[i,j]==1\n",
    "                e_code[i,j]=k\n",
    "                D_lin[k]+=D[i,j]\n",
    "                T_lin[k]+=T[i,j]\n",
    "                k+=1\n",
    "            end   \n",
    "        end\n",
    "    end\n",
    "    tris=[]\n",
    "    rows,cols=size(Tri)\n",
    "    for row in 1:rows\n",
    "        newtri=[]\n",
    "        for col in 1:cols\n",
    "            ijstring=Tri[row,col]\n",
    "            comma=findnext(isequal(','),ijstring,1)\n",
    "            i=parse(Int64,ijstring[2:(comma-1)])\n",
    "            j=parse(Int64,ijstring[(comma+1):(length(ijstring)-1)])\n",
    "            if i!=0 && j!=0\n",
    "                append!(newtri,e_code[i,j])\n",
    "            end\n",
    "        end\n",
    "        push!(tris,newtri)\n",
    "    end\n",
    "    return D_lin, T_lin, e_code, tris\n",
    "end\n",
    "\n",
    "function solve_two_step(w,h,s,f,S_m,C_m,d,T,code,tris,use_tris)\n",
    "    m = Model(() -> Gurobi.Optimizer(GRB_ENV));\n",
    "    MAXTIME=600\n",
    "    set_optimizer_attributes(m, \"TimeLimit\" => MAXTIME, \"MIPGap\" => 1e-4, \"OutputFlag\" => 0);\n",
    "    N=28*w*h-18*(w+h)+12; \n",
    "    @variable(m, x[1:N], Bin)\n",
    "    @objective(m, Min, sum(d[i]*x[i] for i in 1:N))\n",
    "    e_codeT=e_code'\n",
    "    crawl=[]\n",
    "    sneak=[]\n",
    "    for i in 1:n\n",
    "        inflow=[]\n",
    "        outflow=[]\n",
    "        for j in 1:n\n",
    "            if e_code[i,j]>0\n",
    "                append!(inflow,e_code[i,j])\n",
    "            end\n",
    "            if e_codeT[i,j]>0\n",
    "                append!(outflow,e_codeT[i,j])\n",
    "            end\n",
    "            if j<=w*h && i<=w*h && e_code[i,j]>0\n",
    "                append!(crawl,e_code[i,j])\n",
    "            elseif j>=(w*h+1) && i>=(w*h+1) && j<=2*w*h && i<=2*w*h && e_code[i,j]>0\n",
    "                append!(sneak,e_code[i,j])\n",
    "            end\n",
    "        end\n",
    "        @constraint(m, sum(x[k] for k in inflow) <= 1)\n",
    "        @constraint(m, sum(x[k] for k in outflow) <= 1)\n",
    "        if i==s\n",
    "            @constraint(m, sum(x[k] for k in inflow)-sum(x[k] for k in outflow)==-1)\n",
    "        elseif i==f\n",
    "            @constraint(m, sum(x[k] for k in inflow)-sum(x[k] for k in outflow)==1)\n",
    "        else\n",
    "            @constraint(m, sum(x[k] for k in inflow)==sum(x[k] for k in outflow))\n",
    "        end\n",
    "    end\n",
    "    if use_tris\n",
    "        tri_tot=length(tris)\n",
    "        @constraint(m, [t in 1:tri_tot], sum(x[t] for t in tris[t])<=1)\n",
    "    end\n",
    "\n",
    "    @constraint(m, sum(x[k] for k in crawl)<=C_max)\n",
    "    @constraint(m, sum(x[k] for k in sneak)<=S_max)\n",
    "    @constraint(m, sum(T[i]*x[i] for i=1:N) <= τ)\n",
    "    optimize!(m)\n",
    "    time=MOI.get(m, MOI.SolveTime())\n",
    "    D_opt=objective_value(m)\n",
    "    \n",
    "    @objective(m, Min, sum(T[i]*x[i] for i in 1:N))\n",
    "    @constraint(m, sum(d[i]*x[i] for i in 1:N)<=D_opt)\n",
    "    optimize!(m)\n",
    "    optimalpath = value.(x)\n",
    "    objective = objective_value(m)\n",
    "    time+=MOI.get(m, MOI.SolveTime())\n",
    "    return optimalpath, objective, time, D_opt\n",
    "end                                           "
   ]
  },
  {
   "cell_type": "code",
   "execution_count": null,
   "metadata": {},
   "outputs": [],
   "source": []
  },
  {
   "cell_type": "markdown",
   "metadata": {},
   "source": [
    "## Other Functions during Development"
   ]
  },
  {
   "cell_type": "code",
   "execution_count": 46,
   "metadata": {},
   "outputs": [
    {
     "data": {
      "text/plain": [
       "solveRobust_Linear (generic function with 1 method)"
      ]
     },
     "execution_count": 46,
     "metadata": {},
     "output_type": "execute_result"
    }
   ],
   "source": [
    "function solve_accelerated(w,h,s,f,S_m,C_m,D,T,code,tris,α)\n",
    "    m = Model(() -> Gurobi.Optimizer(GRB_ENV));\n",
    "    MAXTIME=180\n",
    "    set_optimizer_attributes(m, \"TimeLimit\" => MAXTIME, \"MIPGap\" => 1e-4, \"OutputFlag\" => 0);\n",
    "    N=28*w*h-18*(w+h)+12; \n",
    "    @variable(m, x[1:N]>=0)\n",
    "    @objective(m, Min, sum((D[i]+α*T[i])*x[i] for i in 1:N))\n",
    "    b=[]\n",
    "    e_codeT=e_code'\n",
    "    crawl=[]\n",
    "    sneak=[]\n",
    "    c=Vector{ConstraintRef}(undef, 2)\n",
    "    for i in 1:n\n",
    "        inflow=[]\n",
    "        outflow=[]\n",
    "        for j in 1:n\n",
    "            if e_code[i,j]>0\n",
    "                append!(inflow,e_code[i,j])\n",
    "            end\n",
    "            if e_codeT[i,j]>0\n",
    "                append!(outflow,e_codeT[i,j])\n",
    "            end\n",
    "            if j<=w*h && i<=w*h && e_code[i,j]>0\n",
    "                append!(crawl,e_code[i,j])\n",
    "            elseif j>=(w*h+1) && i>=(w*h+1) && j<=2*w*h && i<=2*w*h && e_code[i,j]>0\n",
    "                append!(sneak,e_code[i,j])\n",
    "            end\n",
    "        end\n",
    "        if i==s\n",
    "            c[1] = @constraint(m, sum(x[k] for k in inflow)-sum(x[k] for k in outflow)==-1)\n",
    "        elseif i==f\n",
    "            c[2] = @constraint(m, sum(x[k] for k in inflow)-sum(x[k] for k in outflow)==1)\n",
    "        else\n",
    "            @constraint(m, sum(x[k] for k in inflow)==sum(x[k] for k in outflow))\n",
    "        end\n",
    "    end\n",
    "    tri_tot=length(tris)\n",
    "    @constraint(m, c_tri[t in 1:tri_tot], sum(x[t] for t in tris[t])<=1)\n",
    "\n",
    "    @constraint(m, c_crawl, sum(x[k] for k in crawl)<=C_max)\n",
    "    @constraint(m, c_sneak, sum(x[k] for k in sneak)<=S_max)\n",
    "    @constraint(m, c_time, sum(T[i]*x[i] for i=1:N) <= τ)\n",
    "    @constraint(m, lp[i in 1:N], x[i]<=1)\n",
    "\n",
    "    MP_time = []; SP_max_time = []; SP_time = []\n",
    "    cutOff=[]\n",
    "    \n",
    "    while true\n",
    "        push!(MP_time, @elapsed optimize!(m))\n",
    "        println(MP_time)\n",
    "        if termination_status(m) == MOI.OPTIMAL\n",
    "            optimalpath = value.(x)\n",
    "            objective = objective_value(m)\n",
    "            time=MOI.get(m, MOI.SolveTime())\n",
    "            return optimalpath, objective, time, cutOff\n",
    "        end\n",
    "        z = sum((D[i]+α*T[i])*x[i] for i in 1:N)\n",
    "        pb=(-getdual(c[1])+getdual(c[2])+C_max*getdual(c_crawl)+S_max*getdual(c_sneak)\n",
    "            +τ*getdual(c_time)+sum(getdual(lp[i]) for i in 1:N)+sum(getdual(c_tri[t]) for t in 1:tri_tot))\n",
    "        z_pb=z-pb\n",
    "        println(z_pb)\n",
    "        for i in 1:N\n",
    "            if D[i]>z_pb\n",
    "                @constraint(m,x[i]==0)\n",
    "                append!(cutOff,i)\n",
    "            end\n",
    "        end\n",
    "        MAXTIME+=1\n",
    "        set_optimizer_attributes(m, \"TimeLimit\" => MAXTIME);\n",
    "    end\n",
    "    \n",
    "end\n",
    "\n",
    "function solveRobust_Linear_added(N::Int, n::Int, s::Int, f::Int, D, T, e_code, Dlim,α,tris,w,h)\n",
    "    model = Model(Gurobi.Optimizer)\n",
    "    @variable(model, x[i=1:N], Bin)\n",
    "    \n",
    "    @objective(model, Min, sum(D[i]*x[i] for i=1:N)+α*sum(T[i]*x[i] for i=1:N))\n",
    "    e_codeT=e_code'\n",
    "    crawl=[]\n",
    "    sneak=[]\n",
    "    for i in 1:n\n",
    "        inflow=[]\n",
    "        outflow=[]\n",
    "        for j in 1:n\n",
    "            if e_code[i,j]>0\n",
    "                append!(inflow,e_code[i,j])\n",
    "            end\n",
    "            if e_codeT[i,j]>0\n",
    "                append!(outflow,e_codeT[i,j])\n",
    "            end\n",
    "            if j<=w*h && i<=w*h && e_code[i,j]>0\n",
    "                append!(crawl,e_code[i,j])\n",
    "            elseif j>=(w*h+1) && i>=(w*h+1) && j<=2*w*h && i<=2*w*h && e_code[i,j]>0\n",
    "                append!(sneak,e_code[i,j])\n",
    "            end\n",
    "        end\n",
    "        if i==s\n",
    "            @constraint(model, sum(x[k] for k in inflow)-sum(x[k] for k in outflow)==-1)\n",
    "        elseif i==f\n",
    "            @constraint(model, sum(x[k] for k in inflow)-sum(x[k] for k in outflow)==1)\n",
    "        else\n",
    "            @constraint(model, sum(x[k] for k in inflow)==sum(x[k] for k in outflow))\n",
    "        end\n",
    "    end\n",
    "    tri_tot=length(tris)\n",
    "    for t in 1:tri_tot\n",
    "        @constraint(model, sum(x[t] for t in tris[t])<=1)\n",
    "    end\n",
    "    @constraint(model, sum(x[k] for k in crawl)<=C_max)\n",
    "    @constraint(model, sum(x[k] for k in sneak)<=S_max)\n",
    "    \n",
    "     \n",
    "    @constraint(model, sum(T[i]*x[i] for i=1:N) <= τ)\n",
    "    \n",
    "    if Dlim<1\n",
    "        for i in 1:N\n",
    "            if D[i]>Dlim\n",
    "                @constraint(model, x[i]==0)\n",
    "            end\n",
    "        end\n",
    "    end\n",
    "\n",
    "    optimize!(model)\n",
    "    optimalpath = value.(x)\n",
    "    objective = objective_value(model)\n",
    "    time=MOI.get(model, MOI.SolveTime())\n",
    "    return optimalpath, objective, time\n",
    "end\n",
    "\n",
    "function solveRobust(n::Int, s::Int, f::Int, D, T, E)\n",
    "    @time begin\n",
    "        model = Model(Gurobi.Optimizer)\n",
    "\n",
    "        @variable(model, x[i=1:n, j=1:n], Bin)\n",
    "        @variable(model, z >= 0)\n",
    "\n",
    "        @objective(model, Min, z)\n",
    "        @constraint(model, sum((D[i,j]) * x[i,j] for i=1:n, j=1:n) <= z)\n",
    "\n",
    "        @constraint(model, sum(x[i,j] for i=1:900,j=1:900) <= C_max)\n",
    "        @constraint(model, sum(x[i,j] for i=901:1800,j=901:1800) <= S_max)\n",
    "\n",
    "        @constraint(model, sum(T[i,j]*x[i,j] for i=1:n,j=1:n) <= τ)\n",
    "        @constraint(model, [i=1:n,j=1:n], x[i,j] <= E[i,j])\n",
    "\n",
    "        @constraint(model, sum(x[s,j] for j=1:n) == 1)\n",
    "        @constraint(model, sum(x[i,f] for i=1:n) == 1)\n",
    "        @constraint(model, [j=1:n; j!=s && j!=f], sum(x[i,j] for i=1:n if i!=f) == sum(x[j,k] for k=1:n if k!=s))\n",
    "\n",
    "        optimize!(model)\n",
    "        optimalpath = value.(x)\n",
    "        objective = objective_value(model)\n",
    "        time=MOI.get(model, MOI.SolveTime())\n",
    "    end\n",
    "    return optimalpath, objective, time\n",
    "end\n",
    "                            \n",
    "function solveRobust2(n::Int, s::Int, f::Int, D, T, E,Dlim)\n",
    "    model = Model(Gurobi.Optimizer)\n",
    "\n",
    "    @variable(model, x[i=1:n, j=1:n], Bin)\n",
    "    @variable(model, z >= 0)\n",
    "    \n",
    "    @objective(model, Min, z)\n",
    "    @constraint(model, sum((D[i,j]) * x[i,j] for i=1:n, j=1:n) <= z)\n",
    "    \n",
    "    @constraint(model, sum(x[i,j] for i=1:900,j=1:900) <= C_max)\n",
    "    @constraint(model, sum(x[i,j] for i=901:1800,j=901:1800) <= S_max)\n",
    "    \n",
    "    @constraint(model, sum(T[i,j]*x[i,j] for i=1:n,j=1:n) <= τ)\n",
    "    @constraint(model, [i=1:n,j=1:n], x[i,j] <= E[i,j])\n",
    "    \n",
    "    @constraint(model, sum(x[s,j] for j=1:n) == 1)\n",
    "    @constraint(model, sum(x[i,f] for i=1:n) == 1)\n",
    "    @constraint(model, [j=1:n; j!=s && j!=f], sum(x[i,j] for i=1:n if i!=f) == sum(x[j,k] for k=1:n if k!=s))\n",
    "    for i=1:n\n",
    "        for j=1:n\n",
    "            if D[i,j]>Dlim\n",
    "                @constraint(model, x[i,j]==0)\n",
    "            end\n",
    "        end\n",
    "    end\n",
    "#     @constraint(model, [j=1:n,i=1:n], x[i,j]<=1+Dlim-D[i,j])\n",
    "    optimize!(model)\n",
    "    optimalpath = value.(x)\n",
    "    objective = objective_value(model)\n",
    "    time=MOI.get(model, MOI.SolveTime())\n",
    "    return optimalpath, objective, time\n",
    "end\n",
    "\n",
    "function solveRobust_Linear(N::Int, n::Int, s::Int, f::Int, D, T, e_code, Dlim,α)\n",
    "    model = Model(Gurobi.Optimizer)\n",
    "    @variable(model, x[i=1:N], Bin)\n",
    "    \n",
    "    @objective(model, Min, sum(D[i]*x[i] for i=1:N)+α*sum(T[i]*x[i] for i=1:N))\n",
    "    e_codeT=e_code'\n",
    "    crawl=[]\n",
    "    sneak=[]\n",
    "    for i in 1:n\n",
    "        inflow=[]\n",
    "        outflow=[]\n",
    "        for j in 1:n\n",
    "            if e_code[i,j]>0\n",
    "                append!(inflow,e_code[i,j])\n",
    "            end\n",
    "            if e_codeT[i,j]>0\n",
    "                append!(outflow,e_codeT[i,j])\n",
    "            end\n",
    "            if j<=900 && i<=900 && e_code[i,j]>0\n",
    "                append!(crawl,e_code[i,j])\n",
    "            elseif j>=901 && i>=901 && j<=1800 && i<=1800 && e_code[i,j]>0\n",
    "                append!(sneak,e_code[i,j])\n",
    "            end\n",
    "        end\n",
    "        if i==s\n",
    "            @constraint(model, sum(x[k] for k in inflow)-sum(x[k] for k in outflow)==-1)\n",
    "        elseif i==f\n",
    "            @constraint(model, sum(x[k] for k in inflow)-sum(x[k] for k in outflow)==1)\n",
    "        else\n",
    "            @constraint(model, sum(x[k] for k in inflow)==sum(x[k] for k in outflow))\n",
    "        end\n",
    "    end\n",
    "    @constraint(model, sum(x[k] for k in crawl)<=C_max)\n",
    "    @constraint(model, sum(x[k] for k in sneak)<=S_max)\n",
    "    \n",
    "     \n",
    "#     @constraint(model, sum(T[i]*x[i] for i=1:N) <= τ)\n",
    "    \n",
    "    for i in 1:N\n",
    "        if D[i]>Dlim\n",
    "            @constraint(model, x[i]==0)\n",
    "        end\n",
    "    end\n",
    "\n",
    "    optimize!(model)\n",
    "    optimalpath = value.(x)\n",
    "    objective = objective_value(model)\n",
    "    time=MOI.get(model, MOI.SolveTime())\n",
    "    return optimalpath, objective, time\n",
    "end"
   ]
  },
  {
   "cell_type": "markdown",
   "metadata": {
    "heading_collapsed": true
   },
   "source": [
    "# Continuous Version"
   ]
  },
  {
   "cell_type": "code",
   "execution_count": null,
   "metadata": {
    "hidden": true
   },
   "outputs": [],
   "source": [
    "w_field=convert(Matrix,CSV.read(\"walking_detection_field.csv\", DataFrame, header=0));\n",
    "s_field=convert(Matrix,CSV.read(\"sneaking_detection_field.csv\", DataFrame, header=0));\n",
    "c_field=convert(Matrix, CSV.read(\"crawling_detection_field.csv\", DataFrame, header=0));\n",
    "det_fields=[w_field,s_field,c_field];"
   ]
  },
  {
   "cell_type": "code",
   "execution_count": null,
   "metadata": {
    "hidden": true
   },
   "outputs": [],
   "source": [
    "S=[]\n",
    "r=[15,3.04,23.9]\n",
    "for i in 1:3\n",
    "    sTemp=[0]\n",
    "    k=1\n",
    "    for j in 1:50\n",
    "        append!(sTemp, k)\n",
    "        k+=1\n",
    "    end\n",
    "    push!(S,sTemp)\n",
    "end\n",
    "S"
   ]
  },
  {
   "cell_type": "code",
   "execution_count": null,
   "metadata": {
    "hidden": true
   },
   "outputs": [],
   "source": [
    "test=[1,2,3,4,1,1,2]"
   ]
  },
  {
   "cell_type": "code",
   "execution_count": null,
   "metadata": {
    "hidden": true
   },
   "outputs": [],
   "source": [
    "for i in test && test[i]<=2\n",
    "    println(i)\n",
    "end"
   ]
  },
  {
   "cell_type": "code",
   "execution_count": null,
   "metadata": {
    "hidden": true
   },
   "outputs": [],
   "source": []
  }
 ],
 "metadata": {
  "kernelspec": {
   "display_name": "Julia 1.8.0",
   "language": "julia",
   "name": "julia-1.8"
  },
  "language_info": {
   "file_extension": ".jl",
   "mimetype": "application/julia",
   "name": "julia",
   "version": "1.8.0"
  }
 },
 "nbformat": 4,
 "nbformat_minor": 2
}
