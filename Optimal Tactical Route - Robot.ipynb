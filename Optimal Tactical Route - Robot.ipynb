{
 "cells": [
  {
   "cell_type": "markdown",
   "metadata": {},
   "source": [
    "# Robust Optimization Final Project Code"
   ]
  },
  {
   "cell_type": "markdown",
   "metadata": {},
   "source": [
    "## Declare Variables and Input Information"
   ]
  },
  {
   "cell_type": "code",
   "execution_count": 47,
   "metadata": {},
   "outputs": [
    {
     "name": "stderr",
     "output_type": "stream",
     "text": [
      "WARNING: redefinition of constant GRB_ENV. This may fail, cause incorrect answers, or produce other errors.\n"
     ]
    },
    {
     "data": {
      "text/plain": [
       "Gurobi.Env(Ptr{Nothing} @0x000000007f7e16a0, false, 0)"
      ]
     },
     "execution_count": 47,
     "metadata": {},
     "output_type": "execute_result"
    }
   ],
   "source": [
    "using JuMP, Gurobi, CSV, DataFrames\n",
    "\n",
    "const GRB_ENV = Gurobi.Env()"
   ]
  },
  {
   "cell_type": "markdown",
   "metadata": {},
   "source": [
    "### Update Every Time"
   ]
  },
  {
   "cell_type": "code",
   "execution_count": 49,
   "metadata": {},
   "outputs": [
    {
     "data": {
      "text/plain": [
       "6000"
      ]
     },
     "execution_count": 49,
     "metadata": {},
     "output_type": "execute_result"
    }
   ],
   "source": [
    "scenario_name = \"3x3\"\n",
    "w=3\n",
    "h=3\n",
    "batteryCapacity = 6000"
   ]
  },
  {
   "cell_type": "code",
   "execution_count": 50,
   "metadata": {},
   "outputs": [],
   "source": [
    "dir2 = \"./\";\n",
    "\n",
    "# DR_input = dir2 * \"Detection.csv\";\n",
    "# E_input = dir2 * \"Adjacency.csv\";\n",
    "# T_input = dir2 * \"Time.csv\";\n",
    "# robust_output = dir2 * \"robust_output.csv\";\n",
    "# robust_path = dir2*\"robust_path.csv\";\n",
    "\n",
    "# #read in the data files\n",
    "# DR = CSV.read(DR_input, DataFrame, header=0);\n",
    "# T = CSV.read(T_input, DataFrame, header=0);\n",
    "# E = CSV.read(E_input, DataFrame, header=0);\n",
    "# tri = CSV.read(\"100_triangles.csv\", DataFrame, header=0);\n",
    "# D_b = CSV.read(dir2* \"Detection_buffer.csv\", DataFrame, header=0);\n",
    "# n = size(T)[1];\n",
    "\n",
    "wh_string=string(w)*\"_\"*string(h)\n",
    "arcs_file=\"arcs_\"*wh_string*\"_\"*scenario_name*\".csv\";\n",
    "tri_file=wh_string*\"_triangle.csv\"\n",
    "# CS_file = wh_string*\"_CS.csv\"\n",
    "# arcs= CSV.read(arcs_file, DataFrame, header=0);\n",
    "# tri= CSV.read(tri_file, DataFrame, header=0);\n",
    "# CS = CSV.read(CS_file, DataFrame, header=0);\n",
    "# ins = CSV.read(wh_string*\"_inflow.csv\", DataFrame, header=0);\n",
    "# outs = CSV.read(wh_string*\"_outflow.csv\", DataFrame, header=0);\n",
    "\n",
    "tri= CSV.read(\"3_3_triangle.csv\", DataFrame, header=0);\n",
    "arcs= CSV.read(\"Buckner_arcs_3_3.csv\", DataFrame, header=0);\n",
    "ins = CSV.read(\"Buckner_ins_3_3.csv\", DataFrame, header=0);\n",
    "outs = CSV.read(\"Buckner_outs_3_3.csv\", DataFrame, header=0);"
   ]
  },
  {
   "cell_type": "code",
   "execution_count": 51,
   "metadata": {},
   "outputs": [],
   "source": [
    "D_lin = arcs[!,4];\n",
    "T_lin = arcs[!,5];\n",
    "E_lin = arcs[!,6];\n",
    "# C=CS[!,1];\n",
    "\n",
    "tris=[]\n",
    "for t in eachrow(tri)\n",
    "    new_t=[]\n",
    "    for a in t\n",
    "        if a!=0\n",
    "            append!(new_t,a)\n",
    "        end\n",
    "    end\n",
    "    push!(tris,new_t)\n",
    "end\n",
    "IN=size(ins,1)\n",
    "inflow=[]\n",
    "outflow=[]\n",
    "for i in 1:IN\n",
    "    new_in=[]\n",
    "    new_out=[]\n",
    "    for j in 1:10\n",
    "        if ins[i,j]!=0\n",
    "            append!(new_in,ins[i,j])\n",
    "            append!(new_out,outs[i,j])\n",
    "        end\n",
    "    end\n",
    "    push!(inflow,new_in)\n",
    "    push!(outflow,new_out)\n",
    "end        "
   ]
  },
  {
   "cell_type": "code",
   "execution_count": 52,
   "metadata": {},
   "outputs": [
    {
     "data": {
      "text/plain": [
       "98"
      ]
     },
     "execution_count": 52,
     "metadata": {},
     "output_type": "execute_result"
    }
   ],
   "source": [
    "#User Input and Initial Calculations\n",
    "τ = 60*60*60; #number of seconds to traverse the graph\n",
    "# S_max=7\n",
    "# C_max=5\n",
    "s = 1 #the starting node of the troops\n",
    "f = 9 #the destination node of the troops\n",
    "N=w*h*2;\n",
    "A = 98"
   ]
  },
  {
   "cell_type": "markdown",
   "metadata": {},
   "source": [
    "## Solve the Model"
   ]
  },
  {
   "cell_type": "code",
   "execution_count": 55,
   "metadata": {},
   "outputs": [
    {
     "name": "stdout",
     "output_type": "stream",
     "text": [
      "Set parameter TimeLimit to value 120\n",
      "Set parameter MIPGap to value 0.01\n"
     ]
    },
    {
     "ename": "LoadError",
     "evalue": "BoundsError: attempt to access 18-element Vector{Any} at index [19]",
     "output_type": "error",
     "traceback": [
      "BoundsError: attempt to access 18-element Vector{Any} at index [19]",
      "",
      "Stacktrace:",
      "  [1] getindex",
      "    @ .\\array.jl:924 [inlined]",
      "  [2] macro expansion",
      "    @ C:\\Users\\jacob.hyatt\\.julia\\packages\\MutableArithmetics\\geMUn\\src\\rewrite.jl:322 [inlined]",
      "  [3] macro expansion",
      "    @ C:\\Users\\jacob.hyatt\\.julia\\packages\\JuMP\\bofhg\\src\\macros.jl:832 [inlined]",
      "  [4] (::var\"#129#138\"{Vector{Int64}, Vector{Any}, Vector{VariableRef}, Vector{VariableRef}, Model})(i::Int64)",
      "    @ Main C:\\Users\\jacob.hyatt\\.julia\\packages\\JuMP\\bofhg\\src\\Containers\\macro.jl:302",
      "  [5] #46",
      "    @ C:\\Users\\jacob.hyatt\\.julia\\packages\\JuMP\\bofhg\\src\\Containers\\container.jl:114 [inlined]",
      "  [6] iterate",
      "    @ .\\generator.jl:47 [inlined]",
      "  [7] collect_to!(dest::Vector{ConstraintRef{Model, MathOptInterface.ConstraintIndex{MathOptInterface.ScalarAffineFunction{Float64}, MathOptInterface.EqualTo{Float64}}, ScalarShape}}, itr::Base.Generator{JuMP.Containers.VectorizedProductIterator{Tuple{UnitRange{Int64}}}, JuMP.Containers.var\"#46#47\"{var\"#129#138\"{Vector{Int64}, Vector{Any}, Vector{VariableRef}, Vector{VariableRef}, Model}}}, offs::Int64, st::Tuple{Tuple{Int64, Int64}})",
      "    @ Base .\\array.jl:845",
      "  [8] collect_to_with_first!(dest::Vector{ConstraintRef{Model, MathOptInterface.ConstraintIndex{MathOptInterface.ScalarAffineFunction{Float64}, MathOptInterface.EqualTo{Float64}}, ScalarShape}}, v1::ConstraintRef{Model, MathOptInterface.ConstraintIndex{MathOptInterface.ScalarAffineFunction{Float64}, MathOptInterface.EqualTo{Float64}}, ScalarShape}, itr::Base.Generator{JuMP.Containers.VectorizedProductIterator{Tuple{UnitRange{Int64}}}, JuMP.Containers.var\"#46#47\"{var\"#129#138\"{Vector{Int64}, Vector{Any}, Vector{VariableRef}, Vector{VariableRef}, Model}}}, st::Tuple{Tuple{Int64, Int64}})",
      "    @ Base .\\array.jl:823",
      "  [9] collect(itr::Base.Generator{JuMP.Containers.VectorizedProductIterator{Tuple{UnitRange{Int64}}}, JuMP.Containers.var\"#46#47\"{var\"#129#138\"{Vector{Int64}, Vector{Any}, Vector{VariableRef}, Vector{VariableRef}, Model}}})",
      "    @ Base .\\array.jl:797",
      " [10] map(f::Function, A::JuMP.Containers.VectorizedProductIterator{Tuple{UnitRange{Int64}}})",
      "    @ Base .\\abstractarray.jl:2961",
      " [11] container(f::Function, indices::JuMP.Containers.VectorizedProductIterator{Tuple{UnitRange{Int64}}}, #unused#::Type{JuMP.Containers.DenseAxisArray})",
      "    @ JuMP.Containers C:\\Users\\jacob.hyatt\\.julia\\packages\\JuMP\\bofhg\\src\\Containers\\container.jl:114",
      " [12] container",
      "    @ C:\\Users\\jacob.hyatt\\.julia\\packages\\JuMP\\bofhg\\src\\Containers\\container.jl:75 [inlined]",
      " [13] two_step_en(w::Int64, h::Int64, s::Int64, f::Int64, A::Int64, N::Int64, d::Vector{Int64}, t::Vector{Float64}, E::Vector{Int64}, tris::Vector{Any}, t_all::Int64, inflow::Vector{Any}, outflow::Vector{Any})",
      "    @ Main .\\In[54]:20",
      " [14] macro expansion",
      "    @ .\\In[55]:2 [inlined]",
      " [15] top-level scope",
      "    @ .\\timing.jl:263 [inlined]",
      " [16] top-level scope",
      "    @ .\\In[55]:0"
     ]
    }
   ],
   "source": [
    "@time begin\n",
    "    pathrob,objT,sTime = two_step_en(w,h,s,f,A,N,D_lin,T_lin,E_lin,tris,τ,inflow,outflow)\n",
    "    end \n",
    "\n",
    "write_path(pathrob, A)"
   ]
  },
  {
   "cell_type": "markdown",
   "metadata": {},
   "source": [
    "## Change OBJ Function"
   ]
  },
  {
   "cell_type": "code",
   "execution_count": 41,
   "metadata": {},
   "outputs": [
    {
     "name": "stdout",
     "output_type": "stream",
     "text": [
      "Set parameter TimeLimit to value 120\n",
      "Set parameter MIPGap to value 0.01\n",
      "Set parameter MIPGap to value 0.01\n",
      "Set parameter TimeLimit to value 120\n",
      "Gurobi Optimizer version 10.0.1 build v10.0.1rc0 (win64)\n",
      "\n",
      "CPU model: 11th Gen Intel(R) Core(TM) i7-1185G7 @ 3.00GHz, instruction set [SSE2|AVX|AVX2|AVX512]\n",
      "Thread count: 4 physical cores, 8 logical processors, using up to 8 threads\n",
      "\n",
      "Optimize a model with 249 rows, 98 columns and 1066 nonzeros\n",
      "Model fingerprint: 0x542a0c1d\n",
      "Variable types: 0 continuous, 98 integer (98 binary)\n",
      "Coefficient statistics:\n",
      "  Matrix range     [1e+00, 2e+02]\n",
      "  Objective range  [1e+02, 1e+02]\n",
      "  Bounds range     [0e+00, 0e+00]\n",
      "  RHS range        [1e+00, 2e+05]\n",
      "Found heuristic solution: objective 1200.0000000\n",
      "Presolve removed 31 rows and 8 columns\n",
      "Presolve time: 0.00s\n",
      "Presolved: 218 rows, 90 columns, 856 nonzeros\n",
      "Variable types: 0 continuous, 90 integer (90 binary)\n",
      "\n",
      "Root relaxation: objective 2.000000e+02, 7 iterations, 0.00 seconds (0.00 work units)\n",
      "\n",
      "    Nodes    |    Current Node    |     Objective Bounds      |     Work\n",
      " Expl Unexpl |  Obj  Depth IntInf | Incumbent    BestBd   Gap | It/Node Time\n",
      "\n",
      "*    0     0               0     200.0000000  200.00000  0.00%     -    0s\n",
      "\n",
      "Explored 1 nodes (7 simplex iterations) in 0.00 seconds (0.00 work units)\n",
      "Thread count was 8 (of 8 available processors)\n",
      "\n",
      "Solution count 2: 200 1200 \n",
      "\n",
      "Optimal solution found (tolerance 1.00e-02)\n",
      "Best objective 2.000000000000e+02, best bound 2.000000000000e+02, gap 0.0000%\n",
      "\n",
      "User-callback calls 227, time in user-callback 0.00 sec\n",
      "Least detection path: [0.0, 1.0, 0.0, 0.0, -0.0, -0.0, -0.0, -0.0, 0.0, -0.0, -0.0, -0.0, -0.0, -0.0, -0.0, -0.0, -0.0, 0.0, -0.0, -0.0, -0.0, 1.0, -0.0, -0.0, -0.0, 0.0, -0.0, -0.0, -0.0, -0.0, -0.0, -0.0, -0.0, -0.0, -0.0, -0.0, -0.0, -0.0, -0.0, 0.0, -0.0, -0.0, -0.0, -0.0, -0.0, 0.0, 0.0, 0.0, 0.0, -0.0, -0.0, -0.0, 0.0, -0.0, -0.0, -0.0, -0.0, -0.0, -0.0, -0.0, -0.0, -0.0, -0.0, -0.0, -0.0, -0.0, -0.0, -0.0, -0.0, -0.0, -0.0, -0.0, -0.0, -0.0, -0.0, -0.0, -0.0, -0.0, -0.0, -0.0, -0.0, -0.0, -0.0, -0.0, -0.0, -0.0, -0.0, -0.0, -0.0, -0.0, -0.0, -0.0, -0.0, -0.0, -0.0, -0.0, -0.0, 0.0]\n",
      "Detection cost: 200.0\n",
      "Set parameter TimeLimit to value 120\n",
      "Set parameter MIPGap to value 0.01\n",
      "Set parameter MIPGap to value 0.01\n",
      "Set parameter TimeLimit to value 120\n",
      "Gurobi Optimizer version 10.0.1 build v10.0.1rc0 (win64)\n",
      "\n",
      "CPU model: 11th Gen Intel(R) Core(TM) i7-1185G7 @ 3.00GHz, instruction set [SSE2|AVX|AVX2|AVX512]\n",
      "Thread count: 4 physical cores, 8 logical processors, using up to 8 threads\n",
      "\n",
      "Optimize a model with 295 rows, 196 columns and 395 nonzeros\n",
      "Model fingerprint: 0xed06093d\n",
      "Variable types: 98 continuous, 98 integer (98 binary)\n",
      "Coefficient statistics:\n",
      "  Matrix range     [1e+00, 1e+02]\n",
      "  Objective range  [1e+02, 1e+02]\n",
      "  Bounds range     [0e+00, 0e+00]\n",
      "  RHS range        [1e+02, 6e+03]\n",
      "Presolve removed 295 rows and 196 columns\n",
      "Presolve time: 0.00s\n",
      "Presolve: All rows and columns removed\n",
      "\n",
      "Explored 0 nodes (0 simplex iterations) in 0.00 seconds (0.00 work units)\n",
      "Thread count was 1 (of 8 available processors)\n",
      "\n",
      "Solution count 1: 0 \n",
      "\n",
      "Optimal solution found (tolerance 1.00e-02)\n",
      "Best objective 0.000000000000e+00, best bound 0.000000000000e+00, gap 0.0000%\n",
      "\n",
      "User-callback calls 136, time in user-callback 0.00 sec\n",
      "Generator decisions: [0.0, 1.0, 0.0, 0.0, 0.0, 0.0, 0.0, 0.0, 0.0, 0.0, 0.0, 0.0, 0.0, 0.0, 0.0, 0.0, 0.0, 0.0, 0.0, 0.0, 0.0, 1.0, 0.0, 0.0, 0.0, 0.0, 0.0, 0.0, 0.0, 0.0, 0.0, 0.0, 0.0, 0.0, 0.0, 0.0, 0.0, 0.0, 0.0, 0.0, 0.0, 0.0, 0.0, 0.0, 0.0, 0.0, 0.0, 0.0, 0.0, 0.0, 0.0, 0.0, 0.0, 0.0, 0.0, 0.0, 0.0, 0.0, 0.0, 0.0, 0.0, 0.0, 0.0, 0.0, 0.0, 0.0, 0.0, 0.0, 0.0, 0.0, 0.0, 0.0, 0.0, 0.0, 0.0, 0.0, 0.0, 0.0, 0.0, 0.0, 0.0, 0.0, 0.0, 0.0, 0.0, 0.0, 0.0, 0.0, 0.0, 0.0, 0.0, 0.0, 0.0, 0.0, 0.0, 0.0, 0.0, 0.0]\n",
      "Final energy cost: 0.0\n",
      "  0.032246 seconds (26.26 k allocations: 1.581 MiB)\n"
     ]
    },
    {
     "data": {
      "text/plain": [
       "\"output_3x3.csv\""
      ]
     },
     "execution_count": 41,
     "metadata": {},
     "output_type": "execute_result"
    }
   ],
   "source": [
    "@time begin\n",
    "    pathrob,objT,sTime = two_step_optimization(w,h,s,f,A,N,D_lin,T_lin,E_lin,tris,τ,inflow,outflow, batteryCapacity)\n",
    "    end \n",
    "\n",
    "write_path(pathrob, A)"
   ]
  },
  {
   "cell_type": "code",
   "execution_count": 54,
   "metadata": {},
   "outputs": [
    {
     "data": {
      "text/plain": [
       "write_path (generic function with 1 method)"
      ]
     },
     "execution_count": 54,
     "metadata": {},
     "output_type": "execute_result"
    }
   ],
   "source": [
    "function two_step_en(w,h,s,f,A,N,d,t,E,tris,t_all,inflow,outflow)\n",
    "    m = Model(() -> Gurobi.Optimizer(GRB_ENV));\n",
    "    MAXTIME=120\n",
    "    set_optimizer_attributes(m, \"TimeLimit\" => MAXTIME, \"MIPGap\" => 1e-2, \"OutputFlag\" => 1);\n",
    "    @variable(m, x[1:A], Bin)\n",
    "    @variable(m, batteryLevel[1:A] >= 0) # battery level at each step\n",
    "    @objective(m, Min, sum(d[i]*x[i] for i in 1:A) + (sum(E[i]*x[i] for i in 1:A)))\n",
    "    ## (1/maximum(E))*\n",
    "    @constraint(m, [i in 1:N], sum(x[k] for k in inflow[i])<=1)\n",
    "    @constraint(m, [i in 1:N], sum(x[k] for k in outflow[i])<=1)\n",
    "    @constraint(m, [i in 1:N], sum(x[k] for k in inflow[i] if i!=f && i!=s)-sum(x[k] for k in outflow[i] if i!=f && i!=s)==0)\n",
    "    @constraint(m, sum(x[k] for k in inflow[s])-sum(x[k] for k in outflow[s])==-1)\n",
    "    @constraint(m, sum(x[k] for k in inflow[f])-sum(x[k] for k in outflow[f])==1)\n",
    "    @constraint(m, batteryLevel[1] == batteryCapacity) # initialize battery level\n",
    "\n",
    "    # tri_tot=length(tris)\n",
    "    # @constraint(m, [t in 1:tri_tot], sum(x[t] for t in tris[t])<=1)\n",
    "    @constraint(m, sum(t[i]*x[i] for i=1:A) <= t_all)\n",
    "\n",
    "    @constraint(m, [i in 2:A], batteryLevel[i] == sum(batteryLevel[j] for j in inflow[i]) - E[i] * x[i])  # update battery level at each step\n",
    "    @constraint(m, [i in 1:A], batteryLevel[i] >= 0) # make sure it is never below 0\n",
    "    @constraint(m, [i in 1:A], batteryLevel[i] <= batteryCapacity * x[i])\n",
    "    # @constraint(m, sum(E[i]*x[i] for i=1:A) <= batteryCapacity) \n",
    "\n",
    "    optimize!(m)\n",
    "    #time=MOI.get(m, MOI.SolveTime())\n",
    "    #D_opt=objective_value(m)\n",
    "    \n",
    "    #@objective(m, Min, sum(E[i]*x[i] for i in 1:A))\n",
    "    #@constraint(m, sum(d[i]*x[i] for i in 1:A)<=D_opt)\n",
    "    #optimize!(m)\n",
    "    optimalpath = value.(x)\n",
    "    objective = objective_value(m)\n",
    "    #time+=MOI.get(m, MOI.SolveTime())\n",
    "    print(optimalpath)\n",
    "    return optimalpath, objective, time\n",
    "end\n",
    "\n",
    "function write_path(opt_path, A)\n",
    "    path=[]\n",
    "    for i in 1:A\n",
    "        if opt_path[i]==1\n",
    "            append!(path,i)\n",
    "        end\n",
    "    end\n",
    "    K=length(path)\n",
    "    path_table=zeros(K,2)\n",
    "    for i in 1:K\n",
    "        path_table[i]=path[i]\n",
    "    end\n",
    "    path_output3 = DataFrame(path_table, :auto);\n",
    "    CSV.write(\"output_\"*scenario_name*\".csv\", path_output3); \n",
    "end"
   ]
  },
  {
   "cell_type": "code",
   "execution_count": 45,
   "metadata": {},
   "outputs": [
    {
     "data": {
      "text/plain": [
       "write_path (generic function with 1 method)"
      ]
     },
     "execution_count": 45,
     "metadata": {},
     "output_type": "execute_result"
    }
   ],
   "source": [
    "function two_step_optimization(w, h, s, f, A, N, d, t, E, tris, τ, inflow, outflow, batteryCapacity)\n",
    "    m1 = Model(() -> Gurobi.Optimizer(GRB_ENV))\n",
    "    MAXTIME = 120\n",
    "    set_optimizer_attributes(m1, \"TimeLimit\" => MAXTIME, \"MIPGap\" => 1e-2, \"OutputFlag\" => 1)\n",
    "\n",
    "    # Step 1: Minimize detection to find the least-detection path\n",
    "    @variable(m1, x[1:A], Bin)\n",
    "    @objective(m1, Min, sum(d[i] * x[i] for i in 1:A))\n",
    "\n",
    "    @constraint(m1, [i in 1:N], sum(x[k] for k in inflow[i]) <= 1)\n",
    "    @constraint(m1, [i in 1:N], sum(x[k] for k in outflow[i]) <= 1)\n",
    "    @constraint(m1, [i in 1:N], \n",
    "        sum(x[k] for k in inflow[i] if i != f && i != s) - \n",
    "        sum(x[k] for k in outflow[i] if i != f && i != s) == 0)\n",
    "    @constraint(m1, sum(x[k] for k in inflow[s]) - sum(x[k] for k in outflow[s]) == -1)\n",
    "    @constraint(m1, sum(x[k] for k in inflow[f]) - sum(x[k] for k in outflow[f]) == 1)\n",
    "\n",
    "    tri_tot = length(tris)\n",
    "    @constraint(m1, [t in 1:tri_tot], sum(x[t] for t in tris[t]) <= 1)\n",
    "    @constraint(m1, sum(t[i] * x[i] for i in 1:A) <= τ)\n",
    "\n",
    "    optimize!(m1)\n",
    "\n",
    "    # Extract the least-detection path\n",
    "    optimal_path = value.(x)\n",
    "    path_cost = objective_value(m1)\n",
    "\n",
    "    println(\"Least detection path: \", optimal_path)\n",
    "    println(\"Detection cost: \", path_cost)\n",
    "\n",
    "    # Step 2: Optimize generator usage along the given path\n",
    "    m2 = Model(() -> Gurobi.Optimizer(GRB_ENV))\n",
    "    set_optimizer_attributes(m2, \"TimeLimit\" => MAXTIME, \"MIPGap\" => 1e-2, \"OutputFlag\" => 1)\n",
    "\n",
    "    @variable(m2, batteryLevel[1:A] >= 0) # Battery level at each step\n",
    "    @variable(m2, y[1:A], Bin) # Generator on/off decision\n",
    "\n",
    "    @objective(m2, Min, sum(E[i] * optimal_path[i] * (1 - y[i]) for i in 1:A))\n",
    "\n",
    "    @constraint(m2, batteryLevel[1] == batteryCapacity) # Initialize battery level\n",
    "    @constraint(m2, [i in 2:A], \n",
    "        batteryLevel[i] == batteryLevel[i - 1] - E[i - 1] * optimal_path[i - 1] * (1 - y[i - 1]))\n",
    "    @constraint(m2, [i in 1:A], batteryLevel[i] >= 0) # Ensure battery level is non-negative\n",
    "    @constraint(m2, [i in 1:A], batteryLevel[i] <= batteryCapacity)\n",
    "    @constraint(m2, sum(E[i] * optimal_path[i] * (1 - y[i]) for i in 1:A) <= batteryCapacity)\n",
    "\n",
    "    optimize!(m2)\n",
    "\n",
    "    generator_decision = value.(y)\n",
    "    final_objective = objective_value(m2)\n",
    "\n",
    "    println(\"Generator decisions: \", generator_decision)\n",
    "    println(\"Final energy cost: \", final_objective)\n",
    "\n",
    "    return optimal_path, generator_decision, path_cost, final_objective\n",
    "end\n",
    "\n",
    "function write_path(opt_path, A)\n",
    "    path=[]\n",
    "    for i in 1:A\n",
    "        if opt_path[i]==1\n",
    "            append!(path,i)\n",
    "        end\n",
    "    end\n",
    "    K=length(path)\n",
    "    path_table=zeros(K,2)\n",
    "    for i in 1:K\n",
    "        path_table[i]=path[i]\n",
    "    end\n",
    "    path_output3 = DataFrame(path_table, :auto);\n",
    "    CSV.write(\"output_\"*scenario_name*\".csv\", path_output3); \n",
    "end"
   ]
  },
  {
   "cell_type": "code",
   "execution_count": 46,
   "metadata": {},
   "outputs": [
    {
     "ename": "LoadError",
     "evalue": "UndefVarError: optimalpath not defined",
     "output_type": "error",
     "traceback": [
      "UndefVarError: optimalpath not defined",
      "",
      "Stacktrace:",
      " [1] top-level scope",
      "   @ In[46]:3"
     ]
    }
   ],
   "source": [
    "write_path(pathrob, A)\n",
    "\n",
    "print(optimalpath)"
   ]
  },
  {
   "cell_type": "markdown",
   "metadata": {},
   "source": [
    "## Optimization Functions"
   ]
  },
  {
   "cell_type": "code",
   "execution_count": 6,
   "metadata": {},
   "outputs": [
    {
     "data": {
      "text/plain": [
       "two_step_en_v2 (generic function with 1 method)"
      ]
     },
     "execution_count": 6,
     "metadata": {},
     "output_type": "execute_result"
    }
   ],
   "source": [
    "function two_step_en_v2(w, h, s, f, A, N, d, t, E, tris, τ, inflow, outflow, batteryCapacity)\n",
    "    m_det = Model(() -> Gurobi.Optimizer(GRB_ENV))\n",
    "    MAXTIME = 300\n",
    "    set_optimizer_attributes(m_det, \"TimeLimit\" => MAXTIME, \"MIPGap\" => 1e-2, \"OutputFlag\" => 1)\n",
    "\n",
    "    # Decision variables\n",
    "    @variable(m_det, x[1:A], Bin)\n",
    "\n",
    "    # Objective: Minimize total time\n",
    "    @objective(m_det, Min, sum(d[i] * x[i] for i in 1:A))\n",
    "\n",
    "    # Constraints\n",
    "    @constraint(m_det, [i in 1:N], sum(x[k] for k in inflow[i]) <= 1)\n",
    "    @constraint(m_det, [i in 1:N], sum(x[k] for k in outflow[i]) <= 1)\n",
    "    @constraint(m_det, [i in 1:N], sum(x[k] for k in inflow[i] if i != f && i != s) -\n",
    "                                   sum(x[k] for k in outflow[i] if i != f && i != s) == 0)\n",
    "    @constraint(m_det, sum(x[k] for k in inflow[s]) - sum(x[k] for k in outflow[s]) == -1)\n",
    "    @constraint(m_det, sum(x[k] for k in inflow[f]) - sum(x[k] for k in outflow[f]) == 1)\n",
    "    tri_tot = length(tris)\n",
    "    @constraint(m_det, [t in 1:tri_tot], sum(x[t] for t in tris[t]) <= 1)\n",
    "\n",
    "    # Optimize the first step\n",
    "    optimize!(m_det)\n",
    "    D_opt = objective_value(m_det)\n",
    "    optimalpath_det = value.(x)\n",
    "\n",
    "    println(\"Step 1 - Optimal time path: $optimalpath_det with det $D_opt\")\n",
    "    # Step 2: Minimize energy with time constraint and influence of time-optimized path\n",
    "    m_energy = Model(() -> Gurobi.Optimizer(GRB_ENV))\n",
    "    set_optimizer_attributes(m_energy, \"TimeLimit\" => MAXTIME, \"MIPGap\" => 1e-2, \"OutputFlag\" => 1)\n",
    "\n",
    "    # Decision variables\n",
    "    @variable(m_energy, x[1:A], Bin)\n",
    "    @variable(m_energy, batteryLevel[1:A] >= 0) # Battery level at each step\n",
    "\n",
    "    # Parameter to weigh deviation penalty\n",
    "    #  α = .1  # Adjust this parameter to control weight of time-path influence\n",
    "\n",
    "    # Objective: Minimize energy with penalty for deviation from optimal time path\n",
    "    # @objective(m_energy, Min, sum((1/maximum(E)) *E[i] * x[i] for i in 1:A) + α * sum((x[i] - .0001* optimalpath_det[i]) for i in 1:A))\n",
    "\n",
    "    # Constraints (same as before)\n",
    "    @constraint(m_energy, [i in 1:N], sum(x[k] for k in inflow[i]) <= 1)\n",
    "    @constraint(m_energy, [i in 1:N], sum(x[k] for k in outflow[i]) <= 1)\n",
    "    @constraint(m_energy, [i in 1:N], sum(x[k] for k in inflow[i] if i != f && i != s) -\n",
    "                                    sum(x[k] for k in outflow[i] if i != f && i != s) == 0)\n",
    "    @constraint(m_energy, sum(x[k] for k in inflow[s]) - sum(x[k] for k in outflow[s]) == -1)\n",
    "    @constraint(m_energy, sum(x[k] for k in inflow[f]) - sum(x[k] for k in outflow[f]) == 1)\n",
    "    @constraint(m_energy, sum(t[i] * x[i] for i in 1:A) <= D_opt + τ)  # Time constraint\n",
    "    @constraint(m_energy, batteryLevel[1] == batteryCapacity) # Initial battery level\n",
    "    @constraint(m_energy, [i in 2:A], batteryLevel[i] == batteryLevel[i - 1] - E[i - 1] * x[i - 1])  # Update battery level\n",
    "    @constraint(m_energy, [i in 1:A], batteryLevel[i] >= 0) # Ensure battery is non-negative\n",
    "    @constraint(m_energy, [i in 1:A], batteryLevel[i] <= batteryCapacity)\n",
    "    @constraint(m_energy, sum(E[i] * x[i] for i in 1:A) <= batteryCapacity)\n",
    "\n",
    "    # Optimize the second step\n",
    "    optimize!(m_energy)\n",
    "    pathrob = value.(x)\n",
    "    objective_energy = objective_value(m_energy)\n",
    "\n",
    "    return pathrob\n",
    "end"
   ]
  }
 ],
 "metadata": {
  "kernelspec": {
   "display_name": "Julia 1.8.0",
   "language": "julia",
   "name": "julia-1.8"
  },
  "language_info": {
   "file_extension": ".jl",
   "mimetype": "application/julia",
   "name": "julia",
   "version": "1.8.0"
  }
 },
 "nbformat": 4,
 "nbformat_minor": 2
}
