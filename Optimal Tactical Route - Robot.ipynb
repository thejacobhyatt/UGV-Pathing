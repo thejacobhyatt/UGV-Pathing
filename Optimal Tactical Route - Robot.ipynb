{
 "cells": [
  {
   "cell_type": "markdown",
   "metadata": {},
   "source": [
    "# Robust Optimization Final Project Code"
   ]
  },
  {
   "cell_type": "markdown",
   "metadata": {},
   "source": [
    "## Declare Variables and Input Information"
   ]
  },
  {
   "cell_type": "code",
   "execution_count": 2,
   "metadata": {},
   "outputs": [
    {
     "ename": "SyntaxError",
     "evalue": "invalid syntax (2529876273.py, line 1)",
     "output_type": "error",
     "traceback": [
      "\u001b[1;36m  Cell \u001b[1;32mIn[2], line 1\u001b[1;36m\u001b[0m\n\u001b[1;33m    using JuMP, Gurobi, CSV, DataFrames\u001b[0m\n\u001b[1;37m          ^\u001b[0m\n\u001b[1;31mSyntaxError\u001b[0m\u001b[1;31m:\u001b[0m invalid syntax\n"
     ]
    }
   ],
   "source": [
    "using JuMP, Gurobi, CSV, DataFrames\n",
    "\n",
    "const GRB_ENV = Gurobi.Env()"
   ]
  },
  {
   "cell_type": "markdown",
   "metadata": {},
   "source": [
    "### Update Every Time"
   ]
  },
  {
   "cell_type": "code",
   "execution_count": 1,
   "metadata": {},
   "outputs": [],
   "source": [
    "scenario_name = \"massive\"\n",
    "w=51\n",
    "h=51\n",
    "batteryCapacity = 200*(2*w*h)"
   ]
  },
  {
   "cell_type": "code",
   "execution_count": 17,
   "metadata": {},
   "outputs": [
    {
     "data": {
      "text/plain": [
       "48400"
      ]
     },
     "execution_count": 17,
     "metadata": {},
     "output_type": "execute_result"
    }
   ],
   "source": [
    "dir2 = \"Robot Pathing/\";\n",
    "\n",
    "# DR_input = dir2 * \"Detection.csv\";\n",
    "# E_input = dir2 * \"Adjacency.csv\";\n",
    "# T_input = dir2 * \"Time.csv\";\n",
    "# robust_output = dir2 * \"robust_output.csv\";\n",
    "# robust_path = dir2*\"robust_path.csv\";\n",
    "\n",
    "# #read in the data files\n",
    "# DR = CSV.read(DR_input, DataFrame, header=0);\n",
    "# T = CSV.read(T_input, DataFrame, header=0);\n",
    "# E = CSV.read(E_input, DataFrame, header=0);\n",
    "# tri = CSV.read(\"100_triangles.csv\", DataFrame, header=0);\n",
    "# D_b = CSV.read(dir2* \"Detection_buffer.csv\", DataFrame, header=0);\n",
    "# n = size(T)[1];\n",
    "\n",
    "wh_string=string(w)*\"_\"*string(h)\n",
    "scenario_name = \"massive\"\n",
    "arcs_file=\"arcs_\"*wh_string*\"_\"*scenario_name*\".csv\";\n",
    "tri_file=wh_string*\"_triangle.csv\"\n",
    "# CS_file = wh_string*\"_CS.csv\"\n",
    "arcs= CSV.read(arcs_file, DataFrame, header=0);\n",
    "tri= CSV.read(tri_file, DataFrame, header=0);\n",
    "# CS = CSV.read(CS_file, DataFrame, header=0);\n",
    "ins = CSV.read(wh_string*\"_inflow.csv\", DataFrame, header=0);\n",
    "outs = CSV.read(wh_string*\"_outflow.csv\", DataFrame, header=0);\n"
   ]
  },
  {
   "cell_type": "code",
   "execution_count": 18,
   "metadata": {},
   "outputs": [],
   "source": [
    "D_lin = arcs[!,4];\n",
    "T_lin = arcs[!,5];\n",
    "E_lin = arcs[!,6];\n",
    "# C=CS[!,1];\n",
    "\n",
    "tris=[]\n",
    "for t in eachrow(tri)\n",
    "    new_t=[]\n",
    "    for a in t\n",
    "        if a!=0\n",
    "            append!(new_t,a)\n",
    "        end\n",
    "    end\n",
    "    push!(tris,new_t)\n",
    "end\n",
    "IN=size(ins,1)\n",
    "inflow=[]\n",
    "outflow=[]\n",
    "for i in 1:IN\n",
    "    new_in=[]\n",
    "    new_out=[]\n",
    "    for j in 1:10\n",
    "        if ins[i,j]!=0\n",
    "            append!(new_in,ins[i,j])\n",
    "            append!(new_out,outs[i,j])\n",
    "        end\n",
    "    end\n",
    "    push!(inflow,new_in)\n",
    "    push!(outflow,new_out)\n",
    "end        "
   ]
  },
  {
   "cell_type": "code",
   "execution_count": 89,
   "metadata": {},
   "outputs": [],
   "source": [
    "# D_lin, T_lin, e_code, tris = linearizeModel(100,100,E,DR,T,tri);"
   ]
  },
  {
   "cell_type": "code",
   "execution_count": 19,
   "metadata": {},
   "outputs": [
    {
     "data": {
      "text/plain": [
       "840"
      ]
     },
     "execution_count": 19,
     "metadata": {},
     "output_type": "execute_result"
    }
   ],
   "source": [
    "#User Input and Initial Calculations\n",
    "τ = 60*60*60; #number of seconds to traverse the graph\n",
    "# S_max=7\n",
    "# C_max=5\n",
    "s = 1 #the starting node of the troops\n",
    "f = 121 #the destination node of the troops\n",
    "N=w*h;\n",
    "A=28*w*h-18*(w+h)+12;\n",
    "A=4-6(w+h)+ 8*(w*h)"
   ]
  },
  {
   "cell_type": "markdown",
   "metadata": {},
   "source": [
    "## Solve the Model"
   ]
  },
  {
   "cell_type": "code",
   "execution_count": 21,
   "metadata": {},
   "outputs": [
    {
     "name": "stdout",
     "output_type": "stream",
     "text": [
      "Set parameter TimeLimit to value 600\n",
      "Set parameter TimeLimit to value 600\n",
      "  0.217944 seconds (107.93 k allocations: 7.270 MiB)\n"
     ]
    },
    {
     "data": {
      "text/plain": [
       "\"output_test.csv\""
      ]
     },
     "execution_count": 21,
     "metadata": {},
     "output_type": "execute_result"
    }
   ],
   "source": [
    "@time begin\n",
    "    pathrob,objT,sTime,objD=two_step_en(w,h,s,f,A,N,D_lin,T_lin,E_lin,tris,τ,inflow,outflow)\n",
    "    end \n",
    "\n",
    "write_path(pathrob, A)"
   ]
  },
  {
   "cell_type": "code",
   "execution_count": 12,
   "metadata": {},
   "outputs": [
    {
     "data": {
      "text/plain": [
       "\"output_3 Enemies.csv\""
      ]
     },
     "execution_count": 12,
     "metadata": {},
     "output_type": "execute_result"
    }
   ],
   "source": [
    "write_path(pathrob, A)"
   ]
  },
  {
   "cell_type": "markdown",
   "metadata": {},
   "source": [
    "## Common Functions"
   ]
  },
  {
   "cell_type": "code",
   "execution_count": 15,
   "metadata": {},
   "outputs": [
    {
     "data": {
      "text/plain": [
       "write_path (generic function with 1 method)"
      ]
     },
     "execution_count": 15,
     "metadata": {},
     "output_type": "execute_result"
    }
   ],
   "source": [
    "function two_step_en(w,h,s,f,A,N,d,t,E,tris,τ,inflow,outflow)\n",
    "    m = Model(() -> Gurobi.Optimizer(GRB_ENV));\n",
    "    MAXTIME=600\n",
    "    set_optimizer_attributes(m, \"TimeLimit\" => MAXTIME, \"MIPGap\" => 1e-4, \"OutputFlag\" => 0);\n",
    "    @variable(m, x[1:A], Bin)\n",
    "    @objective(m, Min, sum(d[i]*x[i] for i in 1:A))\n",
    "    \n",
    "    @constraint(m, [i in 1:N], sum(x[k] for k in inflow[i])<=1)\n",
    "    @constraint(m, [i in 1:N], sum(x[k] for k in outflow[i])<=1)\n",
    "    @constraint(m, [i in 1:N], sum(x[k] for k in inflow[i] if i!=f && i!=s)-sum(x[k] for k in outflow[i] if i!=f && i!=s)==0)\n",
    "    @constraint(m, sum(x[k] for k in inflow[s])-sum(x[k] for k in outflow[s])==-1)\n",
    "    @constraint(m, sum(x[k] for k in inflow[f])-sum(x[k] for k in outflow[f])==1)\n",
    "\n",
    "    tri_tot=length(tris)\n",
    "    @constraint(m, [t in 1:tri_tot], sum(x[t] for t in tris[t])<=1)\n",
    "    @constraint(m, sum(t[i]*x[i] for i=1:A) <= τ)\n",
    "    @constraint(m, sum(E[i]*x[i] for i=1:A) <= batteryCapacity)\n",
    "    optimize!(m)\n",
    "    #time=MOI.get(m, MOI.SolveTime())\n",
    "    D_opt=objective_value(m)\n",
    "    \n",
    "    @objective(m, Min, sum(E[i]*x[i] for i in 1:A))\n",
    "    @constraint(m, sum(d[i]*x[i] for i in 1:A)<=D_opt)\n",
    "    optimize!(m)\n",
    "    optimalpath = value.(x)\n",
    "    objective = objective_value(m)\n",
    "    #time+=MOI.get(m, MOI.SolveTime())\n",
    "    return optimalpath, objective, time, D_opt\n",
    "end\n",
    "\n",
    "function write_path(opt_path, A)\n",
    "    path=[]\n",
    "    for i in 1:A\n",
    "        if opt_path[i]==1\n",
    "            append!(path,i)\n",
    "        end\n",
    "    end\n",
    "    K=length(path)\n",
    "    path_table=zeros(K,2)\n",
    "    for i in 1:K\n",
    "        path_table[i]=path[i]\n",
    "    end\n",
    "    path_output3 = DataFrame(path_table, :auto);\n",
    "    CSV.write(\"output_\"*scenario_name*\".csv\", path_output3); \n",
    "end"
   ]
  }
 ],
 "metadata": {
  "kernelspec": {
   "display_name": "Python 3",
   "language": "python",
   "name": "python3"
  },
  "language_info": {
   "codemirror_mode": {
    "name": "ipython",
    "version": 3
   },
   "file_extension": ".py",
   "mimetype": "text/x-python",
   "name": "python",
   "nbconvert_exporter": "python",
   "pygments_lexer": "ipython3",
   "version": "3.12.6"
  }
 },
 "nbformat": 4,
 "nbformat_minor": 2
}
